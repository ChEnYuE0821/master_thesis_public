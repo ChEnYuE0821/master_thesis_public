{
 "cells": [
  {
   "cell_type": "markdown",
   "metadata": {},
   "source": [
    "# READ ME\n",
    "## 1. you may also access the data through the following link:\n",
    "https://fsstudentsde-my.sharepoint.com/:f:/g/personal/chenyue_jiang_fs-students_de/Eu3WI9hotHREuOgpXI4hdl0B0PSnsQWR22xC5mh5APx8mA?e=0MG1zT\n",
    " - baaq9x9kji9zwaqg.csv (price data)\n",
    " - ubnticojazavbiyb.csv (ratio)\n",
    " - SP500_Index_Constitutes2020.csv (s&p500)"
   ]
  },
  {
   "cell_type": "code",
   "execution_count": 145,
   "metadata": {},
   "outputs": [],
   "source": [
    "import wrds as wrds\n",
    "import pandas as pd\n",
    "import numpy as np\n",
    "import statsmodels.api as sm\n",
    "from scipy.stats import norm\n",
    "import time\n",
    "import datetime\n",
    "import matplotlib.pyplot as plt\n",
    "import seaborn as sns"
   ]
  },
  {
   "cell_type": "code",
   "execution_count": 2,
   "metadata": {},
   "outputs": [],
   "source": [
    "from tqdm import tqdm"
   ]
  },
  {
   "cell_type": "code",
   "execution_count": 3,
   "metadata": {},
   "outputs": [],
   "source": [
    "import warnings\n",
    "\n",
    "warnings.filterwarnings(\"ignore\")\n",
    "# warnings.resetwarnings()"
   ]
  },
  {
   "cell_type": "markdown",
   "metadata": {},
   "source": [
    "# Read data"
   ]
  },
  {
   "cell_type": "code",
   "execution_count": 45,
   "metadata": {},
   "outputs": [
    {
     "name": "stdout",
     "output_type": "stream",
     "text": [
      "My PC node: chenyuedemacbook-pro.local\n",
      "Paths set; data root is in /Users/chenyuejiang/Desktop/Master thesis\n"
     ]
    }
   ],
   "source": [
    "import platform\n",
    "from pathlib import Path\n",
    "my_system = platform.uname()\n",
    "print(f'My PC node: {my_system.node.lower()}')\n",
    "class Options:\n",
    "    if (my_system.node.lower()== 'chenyuedemacbook-pro.local'): \n",
    "        path = Path(r'/Users/chenyuejiang/Desktop/Master thesis')\n",
    "        wrds_name = 'orererrr'\n",
    "    elif (my_system.node.lower() == 'baizhengnandemacbook-pro.local'):\n",
    "        path = Path(r'/Users/baizhengnan/Desktop/Master thesis/归档')\n",
    "        wrds_name = 'zhengnan123'\n",
    "        pass\n",
    "class FileNames:\n",
    "    daily_price = Options.path / 'baaq9x9kji9zwaqg.csv'\n",
    "    ratio = Options.path / 'ubnticojazavbiyb.csv'\n",
    "    sp500 = Options.path / 'SP500_Index_Constitutes2020.csv'\n",
    "print(f'Paths set; data root is in {Options.path}')\n",
    "def load_data():\n",
    "    print('Loading daily price...')\n",
    "    df = pd.read_csv(FileNames.daily_price)\n",
    "    df['DlyCalDt'] = pd.to_datetime(df['DlyCalDt'])\n",
    "    df['year_month'] = df['DlyCalDt'].dt.year*100 + df['DlyCalDt'].dt.month\n",
    "    print('Loading ratio...')\n",
    "    ratio = pd.read_csv(FileNames.ratio)\n",
    "    ratio['public_date'] = pd.to_datetime(ratio['public_date'])\n",
    "    ratio['year_month'] = ratio['public_date'].dt.year*100 + ratio['public_date'].dt.month\n",
    "    print('Loading sp500...')\n",
    "    sp500 = pd.read_csv(FileNames.sp500)\n",
    "    sp500['start'] = pd.to_datetime(sp500['start'])\n",
    "    sp500['ending'] = pd.to_datetime(sp500['ending'])\n",
    "    universe = sp500['permno'].values\n",
    "    print('Data loaded.')\n",
    "    return df, ratio, sp500, universe"
   ]
  },
  {
   "cell_type": "code",
   "execution_count": 46,
   "metadata": {},
   "outputs": [
    {
     "name": "stdout",
     "output_type": "stream",
     "text": [
      "Loading daily price...\n",
      "Loading ratio...\n",
      "Loading sp500...\n",
      "Data loaded.\n"
     ]
    }
   ],
   "source": [
    "df,ratio,df00,universe = load_data()"
   ]
  },
  {
   "cell_type": "code",
   "execution_count": 282,
   "metadata": {},
   "outputs": [
    {
     "data": {
      "text/plain": [
       "Index(['PERMNO', 'CUSIP', 'DlyCalDt', 'DlyPrc', 'DlyCap', 'DlyRet', 'DlyRetx',\n",
       "       'DlyOrdDivAmt', 'DlyVol', 'DlyClose', 'DlyLow', 'DlyHigh', 'DlyOpen',\n",
       "       'DlyNumTrd', 'DlyPrcVol', 'ShrOut', 'DisDivAmt', 'year_month'],\n",
       "      dtype='object')"
      ]
     },
     "execution_count": 282,
     "metadata": {},
     "output_type": "execute_result"
    }
   ],
   "source": [
    "df.columns\n"
   ]
  },
  {
   "cell_type": "markdown",
   "metadata": {},
   "source": [
    "| Variable name | Variable meaning | \n",
    "| --------------- | --------------- | \n",
    "| PERMNO| PERMNO (PERMNO) |\n",
    "| CUSIP | CUSIP (CUSIP) |\n",
    "| DlyCalDt | Daily Calendar Date (DlyCalDt) |\n",
    "| DlyPrc | Daily Price (DlyPrc) |\n",
    "| DlyCap | Daily Capitalization (DlyCap) |\n",
    "| DlyRet | Daily Total Return (DlyRet) |\n",
    "| DlyRetx | Daily Price Return (DlyRetx) |\n",
    "| DlyOrdDivAmt | Daily Ordinary Dividend Amount (DlyOrdDivAmt) |\n",
    "| DlyVol | Daily Volume (DlyVol) |\n",
    "| DlyClose | Daily Close (DlyClose) |\n",
    "| DlyLow | Daily Low (DlyLow) |\n",
    "| DlyHigh | Daily High (DlyHigh) |\n",
    "| DlyOpen | Daily Open (DlyOpen) |\n",
    "| DlyNumTrd | Daily Number Of Trades (DlyNumTrd) |\n",
    "| DlyPrcVol | Daily Price Volume (DlyPrcVol) |\n",
    "| ShrOut | Daily Price Volume (DlyPrcVol) |\n",
    "| DisDivAmt | Dividend Amount (DisDivAmt) |\n"
   ]
  },
  {
   "cell_type": "code",
   "execution_count": 8,
   "metadata": {},
   "outputs": [],
   "source": [
    "# generate year_month for later merge\n",
    "df['year_month'] = df['DlyCalDt'].dt.year*100 + df['DlyCalDt'].dt.month"
   ]
  },
  {
   "cell_type": "code",
   "execution_count": 9,
   "metadata": {},
   "outputs": [
    {
     "data": {
      "text/plain": [
       "Index(['permno', 'adate', 'qdate', 'public_date', 'bm', 'ps', 'pcf', 'dpr',\n",
       "       'npm', 'gpm', 'capital_ratio', 'de_ratio', 'curr_ratio', 'at_turn',\n",
       "       'ptb', 'divyield', 'PEG_1yrforward'],\n",
       "      dtype='object')"
      ]
     },
     "execution_count": 9,
     "metadata": {},
     "output_type": "execute_result"
    }
   ],
   "source": [
    "ratio = pd.read_csv(\"ubnticojazavbiyb.csv\")\n",
    "ratio['public_date'] = pd.to_datetime(ratio['public_date'])\n",
    "ratio.columns"
   ]
  },
  {
   "cell_type": "markdown",
   "metadata": {},
   "source": [
    "| Variable name | Variable meaning | \n",
    "| --------------- | --------------- | \n",
    "| permno| PERMNO (PERMNO) |\n",
    "| adate | - |\n",
    "| qdate | - |\n",
    "| public_date | - |\n",
    "| bm | Book/Market (bm) |\n",
    "| ps | Price/Sales (ps) |\n",
    "| pcf | Price/Cash flow (pcf)) |\n",
    "| dpr | Dividend Payout Ratio (dpr) |\n",
    "| npm | Net Profit Margin (npm) |\n",
    "| gpm | Gross Profit Margin (gpm) |\n",
    "| capital_ratio | Capitalization Ratio (capital_ratio) |\n",
    "| de_ratio | Total Debt/Equity (de_ratio) |\n",
    "| curr_ratio | Current Ratio (curr_ratio) |\n",
    "| at_turn | Asset Turnover (at_turn) |\n",
    "| ptb | Price/Book (ptb) |\n",
    "| divyield | Dividend Yield (divyield) |\n",
    "| PEG_1yrforward | Forward P/E to Long-term Growth (PEG) ratio (PEG_ltgforward) |\n"
   ]
  },
  {
   "cell_type": "code",
   "execution_count": 10,
   "metadata": {},
   "outputs": [],
   "source": [
    "# generate year_month for later merge\n",
    "ratio['year_month'] = ratio['public_date'].dt.year*100 + ratio['public_date'].dt.month"
   ]
  },
  {
   "cell_type": "code",
   "execution_count": 11,
   "metadata": {},
   "outputs": [
    {
     "name": "stdout",
     "output_type": "stream",
     "text": [
      "(26244143, 35)\n",
      "Index(['PERMNO', 'CUSIP', 'DlyCalDt', 'DlyPrc', 'DlyCap', 'DlyRet', 'DlyRetx',\n",
      "       'DlyOrdDivAmt', 'DlyVol', 'DlyClose', 'DlyLow', 'DlyHigh', 'DlyOpen',\n",
      "       'DlyNumTrd', 'DlyPrcVol', 'ShrOut', 'DisDivAmt', 'year_month', 'permno',\n",
      "       'adate', 'qdate', 'public_date', 'bm', 'ps', 'pcf', 'dpr', 'npm', 'gpm',\n",
      "       'capital_ratio', 'de_ratio', 'curr_ratio', 'at_turn', 'ptb', 'divyield',\n",
      "       'PEG_1yrforward'],\n",
      "      dtype='object')\n"
     ]
    }
   ],
   "source": [
    "data = df.merge(ratio, left_on=['PERMNO','year_month'],right_on=['permno','year_month'], how='inner')\n",
    "print(data.shape)\n",
    "print(data.columns)"
   ]
  },
  {
   "cell_type": "markdown",
   "metadata": {},
   "source": [
    "# EDA"
   ]
  },
  {
   "cell_type": "code",
   "execution_count": 12,
   "metadata": {},
   "outputs": [
    {
     "data": {
      "image/png": "[encoded data removed]",
      "text/plain": [
       "<Figure size 1080x720 with 1 Axes>"
      ]
     },
     "metadata": {
      "needs_background": "light"
     },
     "output_type": "display_data"
    }
   ],
   "source": [
    "# data.isna().sum().plot(kind='bar')\n",
    "fig, ax = plt.subplots(figsize=(15,10))\n",
    "data.isna().sum().plot(kind='bar', ax=ax)\n",
    "plt.show()"
   ]
  },
  {
   "cell_type": "markdown",
   "metadata": {},
   "source": [
    "## further narrow down the data into S&P 500"
   ]
  },
  {
   "cell_type": "code",
   "execution_count": 13,
   "metadata": {},
   "outputs": [],
   "source": [
    "df00=pd.read_csv(\"/Users/chenyuejiang/Desktop/Rstudio for Machine Lerning and Big Data/data set/SP500_Index_Constitutes2020.csv\")\n",
    "df00['ending'] = pd.to_datetime(df00['ending'])\n",
    "df00['start'] = pd.to_datetime(df00['start'])\n",
    "universe = df00['permno'].values"
   ]
  },
  {
   "cell_type": "code",
   "execution_count": 14,
   "metadata": {},
   "outputs": [],
   "source": [
    "data1 = data[data['PERMNO'].isin(universe)]"
   ]
  },
  {
   "cell_type": "code",
   "execution_count": 15,
   "metadata": {},
   "outputs": [
    {
     "data": {
      "text/plain": [
       "(4157806, 35)"
      ]
     },
     "execution_count": 15,
     "metadata": {},
     "output_type": "execute_result"
    }
   ],
   "source": [
    "data1.shape"
   ]
  },
  {
   "cell_type": "code",
   "execution_count": 16,
   "metadata": {},
   "outputs": [
    {
     "data": {
      "image/png": "[encoded data removed]",
      "text/plain": [
       "<Figure size 1080x720 with 1 Axes>"
      ]
     },
     "metadata": {
      "needs_background": "light"
     },
     "output_type": "display_data"
    }
   ],
   "source": [
    "fig, ax = plt.subplots(figsize=(15,10))\n",
    "data1.isna().sum().plot(kind='bar', ax=ax)\n",
    "plt.show()"
   ]
  },
  {
   "cell_type": "markdown",
   "metadata": {},
   "source": [
    "# drop columns with top8 missing values"
   ]
  },
  {
   "cell_type": "code",
   "execution_count": 151,
   "metadata": {},
   "outputs": [],
   "source": [
    "# drop columns with top8 missing values\n",
    "col_to_drop = data1.isna().sum().sort_values(ascending=False).head(8).index\n",
    "data2 = data1.drop(col_to_drop, axis=1)"
   ]
  },
  {
   "cell_type": "code",
   "execution_count": 152,
   "metadata": {},
   "outputs": [],
   "source": [
    "data2.dropna(subset = ['DlyClose','DlyLow','DlyHigh','DlyOpen','capital_ratio'], inplace=True)"
   ]
  },
  {
   "cell_type": "markdown",
   "metadata": {},
   "source": [
    "## use data2 as the start of the analysis"
   ]
  },
  {
   "cell_type": "code",
   "execution_count": 62,
   "metadata": {},
   "outputs": [
    {
     "data": {
      "text/plain": [
       "Index(['PERMNO', 'CUSIP', 'DlyCalDt', 'DlyPrc', 'DlyCap', 'DlyRet', 'DlyRetx',\n",
       "       'DlyOrdDivAmt', 'DlyVol', 'DlyClose', 'DlyLow', 'DlyHigh', 'DlyOpen',\n",
       "       'DlyPrcVol', 'ShrOut', 'year_month', 'permno', 'adate', 'qdate',\n",
       "       'public_date', 'ps', 'pcf', 'npm', 'gpm', 'capital_ratio', 'de_ratio',\n",
       "       'at_turn'],\n",
       "      dtype='object')"
      ]
     },
     "execution_count": 62,
     "metadata": {},
     "output_type": "execute_result"
    }
   ],
   "source": [
    "data2.columns"
   ]
  },
  {
   "cell_type": "code",
   "execution_count": 153,
   "metadata": {},
   "outputs": [],
   "source": [
    "# calculate the forward return\n",
    "data2['fret5d'] = data2.groupby('PERMNO')['DlyRetx'].shift(-5)\n",
    "data2['fret1d'] = data2.groupby('PERMNO')['DlyRetx'].shift(-1)"
   ]
  },
  {
   "cell_type": "code",
   "execution_count": 154,
   "metadata": {},
   "outputs": [],
   "source": [
    "data2.rename(columns={'DlyCalDt':'date'}, inplace=True)\n",
    "data2['date'] = pd.to_datetime(data2['date'])"
   ]
  },
  {
   "cell_type": "code",
   "execution_count": 155,
   "metadata": {},
   "outputs": [
    {
     "data": {
      "text/html": [
       "<div>\n",
       "<style scoped>\n",
       "    .dataframe tbody tr th:only-of-type {\n",
       "        vertical-align: middle;\n",
       "    }\n",
       "\n",
       "    .dataframe tbody tr th {\n",
       "        vertical-align: top;\n",
       "    }\n",
       "\n",
       "    .dataframe thead th {\n",
       "        text-align: right;\n",
       "    }\n",
       "</style>\n",
       "<table border=\"1\" class=\"dataframe\">\n",
       "  <thead>\n",
       "    <tr style=\"text-align: right;\">\n",
       "      <th></th>\n",
       "      <th>PERMNO</th>\n",
       "      <th>CUSIP</th>\n",
       "      <th>date</th>\n",
       "      <th>DlyPrc</th>\n",
       "      <th>DlyCap</th>\n",
       "      <th>DlyRet</th>\n",
       "      <th>DlyRetx</th>\n",
       "      <th>DlyOrdDivAmt</th>\n",
       "      <th>DlyVol</th>\n",
       "      <th>DlyClose</th>\n",
       "      <th>...</th>\n",
       "      <th>public_date</th>\n",
       "      <th>ps</th>\n",
       "      <th>pcf</th>\n",
       "      <th>npm</th>\n",
       "      <th>gpm</th>\n",
       "      <th>capital_ratio</th>\n",
       "      <th>de_ratio</th>\n",
       "      <th>at_turn</th>\n",
       "      <th>fret5d</th>\n",
       "      <th>fret1d</th>\n",
       "    </tr>\n",
       "  </thead>\n",
       "  <tbody>\n",
       "    <tr>\n",
       "      <th>54916</th>\n",
       "      <td>10078</td>\n",
       "      <td>86681010</td>\n",
       "      <td>1999-01-04</td>\n",
       "      <td>90.0625</td>\n",
       "      <td>34697929.06</td>\n",
       "      <td>0.051825</td>\n",
       "      <td>0.051825</td>\n",
       "      <td>0.0</td>\n",
       "      <td>7658142.0</td>\n",
       "      <td>90.0625</td>\n",
       "      <td>...</td>\n",
       "      <td>1999-01-31</td>\n",
       "      <td>4.224</td>\n",
       "      <td>25.24</td>\n",
       "      <td>0.075</td>\n",
       "      <td>0.566</td>\n",
       "      <td>0.0</td>\n",
       "      <td>0.615</td>\n",
       "      <td>1.865</td>\n",
       "      <td>0.034388</td>\n",
       "      <td>0.027759</td>\n",
       "    </tr>\n",
       "    <tr>\n",
       "      <th>54917</th>\n",
       "      <td>10078</td>\n",
       "      <td>86681010</td>\n",
       "      <td>1999-01-05</td>\n",
       "      <td>92.5625</td>\n",
       "      <td>35661091.56</td>\n",
       "      <td>0.027759</td>\n",
       "      <td>0.027759</td>\n",
       "      <td>0.0</td>\n",
       "      <td>7760065.0</td>\n",
       "      <td>92.5625</td>\n",
       "      <td>...</td>\n",
       "      <td>1999-01-31</td>\n",
       "      <td>4.224</td>\n",
       "      <td>25.24</td>\n",
       "      <td>0.075</td>\n",
       "      <td>0.566</td>\n",
       "      <td>0.0</td>\n",
       "      <td>0.615</td>\n",
       "      <td>1.865</td>\n",
       "      <td>-0.006649</td>\n",
       "      <td>-0.017556</td>\n",
       "    </tr>\n",
       "    <tr>\n",
       "      <th>54918</th>\n",
       "      <td>10078</td>\n",
       "      <td>86681010</td>\n",
       "      <td>1999-01-06</td>\n",
       "      <td>90.9375</td>\n",
       "      <td>35035035.94</td>\n",
       "      <td>-0.017556</td>\n",
       "      <td>-0.017556</td>\n",
       "      <td>0.0</td>\n",
       "      <td>7835396.0</td>\n",
       "      <td>90.9375</td>\n",
       "      <td>...</td>\n",
       "      <td>1999-01-31</td>\n",
       "      <td>4.224</td>\n",
       "      <td>25.24</td>\n",
       "      <td>0.075</td>\n",
       "      <td>0.566</td>\n",
       "      <td>0.0</td>\n",
       "      <td>0.615</td>\n",
       "      <td>1.865</td>\n",
       "      <td>0.036814</td>\n",
       "      <td>-0.013746</td>\n",
       "    </tr>\n",
       "    <tr>\n",
       "      <th>54919</th>\n",
       "      <td>10078</td>\n",
       "      <td>86681010</td>\n",
       "      <td>1999-01-07</td>\n",
       "      <td>89.6875</td>\n",
       "      <td>34553454.69</td>\n",
       "      <td>-0.013746</td>\n",
       "      <td>-0.013746</td>\n",
       "      <td>0.0</td>\n",
       "      <td>8478294.0</td>\n",
       "      <td>89.6875</td>\n",
       "      <td>...</td>\n",
       "      <td>1999-01-31</td>\n",
       "      <td>4.224</td>\n",
       "      <td>25.24</td>\n",
       "      <td>0.075</td>\n",
       "      <td>0.566</td>\n",
       "      <td>0.0</td>\n",
       "      <td>0.615</td>\n",
       "      <td>1.865</td>\n",
       "      <td>-0.023886</td>\n",
       "      <td>0.013240</td>\n",
       "    </tr>\n",
       "    <tr>\n",
       "      <th>54920</th>\n",
       "      <td>10078</td>\n",
       "      <td>86681010</td>\n",
       "      <td>1999-01-08</td>\n",
       "      <td>90.8750</td>\n",
       "      <td>35010956.88</td>\n",
       "      <td>0.013240</td>\n",
       "      <td>0.013240</td>\n",
       "      <td>0.0</td>\n",
       "      <td>8125354.0</td>\n",
       "      <td>90.8750</td>\n",
       "      <td>...</td>\n",
       "      <td>1999-01-31</td>\n",
       "      <td>4.224</td>\n",
       "      <td>25.24</td>\n",
       "      <td>0.075</td>\n",
       "      <td>0.566</td>\n",
       "      <td>0.0</td>\n",
       "      <td>0.615</td>\n",
       "      <td>1.865</td>\n",
       "      <td>0.062831</td>\n",
       "      <td>0.034388</td>\n",
       "    </tr>\n",
       "  </tbody>\n",
       "</table>\n",
       "<p>5 rows × 29 columns</p>\n",
       "</div>"
      ],
      "text/plain": [
       "       PERMNO     CUSIP       date   DlyPrc       DlyCap    DlyRet   DlyRetx  \\\n",
       "54916   10078  86681010 1999-01-04  90.0625  34697929.06  0.051825  0.051825   \n",
       "54917   10078  86681010 1999-01-05  92.5625  35661091.56  0.027759  0.027759   \n",
       "54918   10078  86681010 1999-01-06  90.9375  35035035.94 -0.017556 -0.017556   \n",
       "54919   10078  86681010 1999-01-07  89.6875  34553454.69 -0.013746 -0.013746   \n",
       "54920   10078  86681010 1999-01-08  90.8750  35010956.88  0.013240  0.013240   \n",
       "\n",
       "       DlyOrdDivAmt     DlyVol  DlyClose  ...  public_date     ps    pcf  \\\n",
       "54916           0.0  7658142.0   90.0625  ...   1999-01-31  4.224  25.24   \n",
       "54917           0.0  7760065.0   92.5625  ...   1999-01-31  4.224  25.24   \n",
       "54918           0.0  7835396.0   90.9375  ...   1999-01-31  4.224  25.24   \n",
       "54919           0.0  8478294.0   89.6875  ...   1999-01-31  4.224  25.24   \n",
       "54920           0.0  8125354.0   90.8750  ...   1999-01-31  4.224  25.24   \n",
       "\n",
       "         npm    gpm  capital_ratio  de_ratio at_turn    fret5d    fret1d  \n",
       "54916  0.075  0.566            0.0     0.615   1.865  0.034388  0.027759  \n",
       "54917  0.075  0.566            0.0     0.615   1.865 -0.006649 -0.017556  \n",
       "54918  0.075  0.566            0.0     0.615   1.865  0.036814 -0.013746  \n",
       "54919  0.075  0.566            0.0     0.615   1.865 -0.023886  0.013240  \n",
       "54920  0.075  0.566            0.0     0.615   1.865  0.062831  0.034388  \n",
       "\n",
       "[5 rows x 29 columns]"
      ]
     },
     "execution_count": 155,
     "metadata": {},
     "output_type": "execute_result"
    }
   ],
   "source": [
    "data2.head()"
   ]
  },
  {
   "cell_type": "code",
   "execution_count": 67,
   "metadata": {},
   "outputs": [],
   "source": [
    "data2.set_index(['PERMNO','date'], inplace=True)"
   ]
  },
  {
   "cell_type": "code",
   "execution_count": 68,
   "metadata": {},
   "outputs": [],
   "source": [
    "# def the MACD function\n",
    "def MACD(df, n_fast, n_slow):\n",
    "    groups = df.groupby('PERMNO')\n",
    "    macds = []\n",
    "    for name, group in groups:\n",
    "        EMAfast = group['DlyClose'].ewm(span=n_fast, min_periods=n_slow).mean()\n",
    "        EMAslow = group['DlyClose'].ewm(span=n_slow, min_periods=n_slow).mean()\n",
    "        MACD = EMAfast - EMAslow\n",
    "        MACDsign = MACD.ewm(span=9, min_periods=9).mean()\n",
    "        MACDdiff = MACD - MACDsign\n",
    "        group['MACD'] = MACD\n",
    "        group['MACDsign'] = MACDsign\n",
    "        group['MACDdiff'] = MACDdiff\n",
    "        macds.append(group)\n",
    "    result = pd.concat(macds)\n",
    "    return result\n",
    "\n",
    "# def the RSI function\n",
    "def RSI(df, n):\n",
    "    groups = df.groupby('PERMNO')\n",
    "    rsis = []\n",
    "    for name, group in groups:\n",
    "        group['delta'] = group['DlyClose'] - group['DlyClose'].shift(1)\n",
    "        group['gain'] = np.where(group['delta']>=0, group['delta'], 0)\n",
    "        group['loss'] = np.where(group['delta']<0, abs(group['delta']), 0)\n",
    "        avg_gain = []\n",
    "        avg_loss = []\n",
    "        gain = group['gain'].tolist()\n",
    "        loss = group['loss'].tolist()\n",
    "        for i in range(len(group)):\n",
    "            if i < n:\n",
    "                avg_gain.append(np.NaN)\n",
    "                avg_loss.append(np.NaN)\n",
    "            elif i == n:\n",
    "                avg_gain.append(group['gain'].rolling(n).mean().tolist()[n])\n",
    "                avg_loss.append(group['loss'].rolling(n).mean().tolist()[n])\n",
    "            elif i > n:\n",
    "                avg_gain.append(((n-1)*avg_gain[i-1] + gain[i])/n)\n",
    "                avg_loss.append(((n-1)*avg_loss[i-1] + loss[i])/n)\n",
    "        group['avg_gain'] = np.array(avg_gain)\n",
    "        group['avg_loss'] = np.array(avg_loss)\n",
    "        group['RS'] = group['avg_gain']/group['avg_loss']\n",
    "        group['RSI'] = 100 - (100/(1+group['RS']))\n",
    "        rsis.append(group)\n",
    "    result = pd.concat(rsis)\n",
    "    return result\n"
   ]
  },
  {
   "cell_type": "code",
   "execution_count": 157,
   "metadata": {},
   "outputs": [],
   "source": [
    "data2 = MACD(data2, 12, 26)\n"
   ]
  },
  {
   "cell_type": "code",
   "execution_count": 158,
   "metadata": {},
   "outputs": [],
   "source": [
    "data2 = RSI(data2, 14)"
   ]
  },
  {
   "cell_type": "code",
   "execution_count": 159,
   "metadata": {},
   "outputs": [],
   "source": [
    "data2.reset_index(inplace=True)"
   ]
  },
  {
   "cell_type": "code",
   "execution_count": 160,
   "metadata": {},
   "outputs": [
    {
     "data": {
      "text/plain": [
       "Index(['index', 'PERMNO', 'CUSIP', 'date', 'DlyPrc', 'DlyCap', 'DlyRet',\n",
       "       'DlyRetx', 'DlyOrdDivAmt', 'DlyVol', 'DlyClose', 'DlyLow', 'DlyHigh',\n",
       "       'DlyOpen', 'DlyPrcVol', 'ShrOut', 'year_month', 'permno', 'adate',\n",
       "       'qdate', 'public_date', 'ps', 'pcf', 'npm', 'gpm', 'capital_ratio',\n",
       "       'de_ratio', 'at_turn', 'fret5d', 'fret1d', 'MACD', 'MACDsign',\n",
       "       'MACDdiff', 'delta', 'gain', 'loss', 'avg_gain', 'avg_loss', 'RS',\n",
       "       'RSI'],\n",
       "      dtype='object')"
      ]
     },
     "execution_count": 160,
     "metadata": {},
     "output_type": "execute_result"
    }
   ],
   "source": [
    "data2.columns"
   ]
  },
  {
   "cell_type": "code",
   "execution_count": 281,
   "metadata": {},
   "outputs": [],
   "source": [
    "features = ['DlyPrc', 'DlyCap',\n",
    "       'DlyOrdDivAmt', 'DlyVol', 'DlyClose', 'DlyLow', 'DlyHigh', 'DlyOpen',\n",
    "       'DlyPrcVol', 'ShrOut'\n",
    "       , 'ps', 'pcf', 'npm', 'gpm', 'capital_ratio', 'de_ratio',\n",
    "       'at_turn','MACD','RSI']"
   ]
  },
  {
   "cell_type": "markdown",
   "metadata": {},
   "source": [
    "## import necessary packages"
   ]
  },
  {
   "cell_type": "code",
   "execution_count": 324,
   "metadata": {},
   "outputs": [],
   "source": [
    "from scipy.stats.mstats import winsorize\n",
    "from scipy.stats import randint as sp_randint\n",
    "from sklearn.preprocessing import MaxAbsScaler, PowerTransformer, MinMaxScaler, QuantileTransformer, RobustScaler\n",
    "from sklearn.pipeline import make_pipeline, Pipeline\n",
    "from sklearn.base import clone, BaseEstimator, TransformerMixin\n",
    "# import KNeighborsRegressor\n",
    "from sklearn.neighbors import KNeighborsRegressor\n",
    "# import RandomForestRegressor\n",
    "from sklearn.ensemble import RandomForestRegressor\n",
    "# import svr\n",
    "from sklearn.svm import SVR\n",
    "# import xgboost regression\n",
    "from xgboost import XGBRegressor\n",
    "# import random search\n",
    "from sklearn.model_selection import RandomizedSearchCV\n",
    "# import MLPRegressor\n",
    "from sklearn.neural_network import MLPRegressor\n",
    "#  import grid search\n",
    "from sklearn.model_selection import KFold, GridSearchCV"
   ]
  },
  {
   "cell_type": "code",
   "execution_count": 23,
   "metadata": {},
   "outputs": [],
   "source": [
    "\n",
    "class Winsorize(BaseEstimator, TransformerMixin):\n",
    "    feature_names = None\n",
    "    level_winsorize = None\n",
    "  # add another additional parameter, just for fun, while we are at it\n",
    "    def __init__(self, feature_names = None, level_winsorize = 0.01):\n",
    "#         print('\\n>>>>>>>init() called.\\n')\n",
    "        self.feature_names = feature_names\n",
    "        self.level_winsorize = level_winsorize\n",
    "        self.abs_level_winsorize = {}\n",
    "\n",
    "    def fit(self, X, y = None):\n",
    "#         print('>>>>>>>fit() called.')\n",
    "        X_ = X.copy() # creating a copy to avoid changes to original dataset\n",
    "        self.feature_names = X_.columns if self.feature_names is None else self.feature_names\n",
    "        for ft in self.feature_names:\n",
    "            temp = winsorize(X_.loc[:,ft], limits=self.level_winsorize, nan_policy='omit').data\n",
    "            self.abs_level_winsorize.update({ft:(np.nanmin(temp), np.nanmax(temp))})\n",
    "            pass\n",
    "        # print(f'level:{self.level_winsorize}\\n')\n",
    "        # print(f'abs levels: {self.abs_level_winsorize}\\n')\n",
    "        return self\n",
    "\n",
    "    def transform(self, X, y = None):\n",
    "#         print('\\n>>>>>>>transform() called.\\n')\n",
    "        X_ = X.copy() # creating a copy to avoid changes to original dataset\n",
    "        for ft in self.feature_names:\n",
    "            if ft in X_.columns:\n",
    "                lims = self.abs_level_winsorize[ft]\n",
    "                tail_left = X_[ft]<=lims[0]\n",
    "                tail_right = X_[ft]>=lims[1]\n",
    "                X_.loc[tail_left, ft] = lims[0]\n",
    "                X_.loc[tail_right, ft] = lims[1]\n",
    "            else:\n",
    "                print(f'Warning: {ft} not in the list of variables/ skipping')\n",
    "            pass\n",
    "        return X_"
   ]
  },
  {
   "cell_type": "code",
   "execution_count": 24,
   "metadata": {},
   "outputs": [],
   "source": [
    "def parse_features(df, feature_names, level_winsorize):\n",
    "    df = df.copy().dropna()\n",
    "    for ft in feature_names:\n",
    "        # winsorise\n",
    "        df[ft] = winsorize(df[ft], limits=level_winsorize).data\n",
    "    return df"
   ]
  },
  {
   "cell_type": "code",
   "execution_count": 347,
   "metadata": {},
   "outputs": [],
   "source": [
    "class  ExcessReturnCalculator:\n",
    "    rolling_frq = None\n",
    "    df = None\n",
    "    look_back_prm = None\n",
    "    level_winsorize = None\n",
    "    feature_names = None\n",
    "    def __init__(self, \n",
    "                 df, \n",
    "                 rolling_frw,\n",
    "                 look_back_prm,\n",
    "                 level_winsorize,\n",
    "                 configurations,\n",
    "                 feature_names\n",
    "                 ):\n",
    "        \n",
    "        self.rolling_frq = rolling_frw\n",
    "        self.df = df\n",
    "        self.look_back_prm = look_back_prm\n",
    "        self.configurations=configurations\n",
    "        self.level_winsorize = level_winsorize\n",
    "        self.feature_names = feature_names\n",
    "        self.optimal_weights = {}\n",
    "        self.returns_strategy = {}\n",
    "        self.pred_returns = {}\n",
    "        for key in configurations.keys():\n",
    "            self.optimal_weights[key] = self.df[['permno', 'date']].copy().set_index(['permno', 'date'])\n",
    "            self.optimal_weights[key]['weight'] = 0\n",
    "            self.returns_strategy[key] = self.df[['date']].copy().drop_duplicates().set_index(['date'])\n",
    "            self.returns_strategy[key]['return'] = None\n",
    "            self.returns_strategy[key].index = pd.to_datetime(self.returns_strategy[key].index)\n",
    "\n",
    "    def make_prediction(self, df_out_sample, prm, model_type='non_linear'):\n",
    "        df_pred = df_out_sample.copy()\n",
    "        df_pred['pred'] = 0\n",
    "\n",
    "        if model_type == 'linear':\n",
    "            self.coefficients = {ft: prm_ft for ft, prm_ft in prm.items() if ft.lower() not in ['const', 'constant', 'intercept']}\n",
    "            df_pred['pred'] = df_pred[self.coefficients.keys()].dot(list(self.coefficients.values())) + prm.get('const', 0)\n",
    "        else:\n",
    "            if not hasattr(self, 'variables'):\n",
    "                self.variables = prm.get('variables', df_pred.columns)\n",
    "\n",
    "            model = prm.get('model')\n",
    "            if model is None:\n",
    "                raise ValueError('Missing required parameter \"model\"')\n",
    "\n",
    "            # Define a function to calculate predictions using the model\n",
    "            def predict_func(row):\n",
    "                return model.predict(row[self.variables].values.reshape(1, -1))[0]\n",
    "\n",
    "            # Use pandas apply to apply the predict_func to each row of the dataframe\n",
    "            df_pred['pred'] = df_pred.apply(predict_func, axis=1)\n",
    "\n",
    "        return df_pred\n",
    "\n",
    "\n",
    "    def get_n_days_rolling(self):\n",
    "        if self.rolling_frq == '1M':\n",
    "            return 30\n",
    "        elif self.rolling_frq == '2M':\n",
    "            return 2*30\n",
    "        elif self.rolling_frq == '3M':\n",
    "            return 3*30\n",
    "        else:\n",
    "            print('rolling_frq not supported: ' + self.rolling_frq)\n",
    "\n",
    "    def parse_data(self, df_r, level_winsorize, feature_names):\n",
    "        return parse_features(df_r, feature_names, level_winsorize)\n",
    "\n",
    "    def alpha_estimation(self, df_r, alpha_estimation_method, label, feature_names):\n",
    "        alpha_estimation_name = alpha_estimation_method['name']\n",
    "        kwargs = alpha_estimation_method.get('kwargs', {})\n",
    "        # if alpha_estimation_name == 'FrwdSelection':\n",
    "        #     prm = self.estimate_forward_selection_method(df_r,label = label, feature_names=feature_names)\n",
    "        if alpha_estimation_name == 'KNN':\n",
    "            prm = self.estimate_knn_method(df_r, label = label, feature_names=feature_names, **kwargs)\n",
    "        elif alpha_estimation_name == 'RandomForest':\n",
    "            prm = self.estimate_rf_method(df_r, label = label, feature_names=feature_names, **kwargs)\n",
    "        elif alpha_estimation_name == 'XGBoost':\n",
    "            prm = self.estimate_xgb_method(df_r, label = label, feature_names=feature_names, **kwargs)\n",
    "        elif alpha_estimation_name == 'MLP':\n",
    "            prm = self.estimate_mlp_method(df_r, label = label, feature_names=feature_names, **kwargs)\n",
    "        elif alpha_estimation_name == 'GridSearchCV':\n",
    "            prm = self.estimate_grid_search_method(df_r, label = label, feature_names=feature_names, **kwargs)\n",
    "        else:\n",
    "            print('Method is not supported: ' + alpha_estimation_method )\n",
    "            prm = None\n",
    "        # print(f'{alpha_estimation_name} {kwargs} optimal parameters: {prm}')\n",
    "        return prm, alpha_estimation_name\n",
    "\n",
    "        \n",
    "\n",
    "    def estimate_knn_method(self, df_r, label, feature_names, **kwargs):\n",
    "        prm = {}\n",
    "        prm['model'] = KNeighborsRegressor(**kwargs)\n",
    "        prm['variables'] = feature_names\n",
    "        prm['model'].fit(df_r[feature_names], df_r[label])\n",
    "        return prm\n",
    "\n",
    "    def estimate_rf_method(self, df_r, label, feature_names, **kwargs):\n",
    "        prm = {}\n",
    "        prm['model'] = RandomForestRegressor(**kwargs)\n",
    "        prm['variables'] = feature_names\n",
    "        prm['model'].fit(df_r[feature_names], df_r[label])\n",
    "        return prm\n",
    "    \n",
    "    \n",
    "    \n",
    "    def estimate_xgb_method(self, df_r, label, feature_names, **kwargs):\n",
    "        prm = {}\n",
    "        prm['model'] = XGBRegressor(**kwargs)\n",
    "        prm['variables'] = feature_names\n",
    "        prm['model'].fit(df_r[feature_names], df_r[label])\n",
    "        return prm\n",
    "    \n",
    "    def estimate_mlp_method(self, df_r, label, feature_names, **kwargs):\n",
    "        prm = {}\n",
    "        prm['model'] = MLPRegressor(**kwargs)\n",
    "        prm['variables'] = feature_names\n",
    "        prm['model'].fit(df_r[feature_names], df_r[label])\n",
    "        return prm\n",
    "    \n",
    "\n",
    "\n",
    "\n",
    "    def estimate_grid_search_method(self, df_r, label, feature_names, **kwargs):\n",
    "        prm = {}\n",
    "        estimator = kwargs.get('estimator',XGBRegressor())\n",
    "        param_grid = kwargs.get('param_grid', {\n",
    "        'n_estimators': [50,100,200],\n",
    "        'learning_rate': [0.01, 0.1, 0.5],\n",
    "        'max_depth': [3, 6, 9],\n",
    "        'subsample': [0.6, 0.8, 1.0],\n",
    "        'colsample_bytree': [0.6, 0.8, 1.0],\n",
    "        'gamma': [0, 0.1, 0.2],\n",
    "        'reg_alpha': [0, 0.1, 0.5],\n",
    "        'reg_lambda': [0, 0.1, 0.5]})\n",
    "        prm['model'] = RandomizedSearchCV(estimator=estimator, param_distributions=param_grid,n_iter=10, n_jobs=-1, cv=5, scoring='neg_mean_squared_error')\n",
    "        prm['variables'] = feature_names\n",
    "        prm['model'].fit(df_r[feature_names], df_r[label])\n",
    "        print(prm)\n",
    "        return prm\n",
    "    \n",
    "\n",
    "    # def calculate_excess_return(self,df_r,df_out_sample,label):\n",
    "    #     \"\"\"\n",
    "    #     Calculate excess return:\n",
    "    #     excess return = expected return - realized return\n",
    "    #     This is used when excess return is the benchmark\"\"\"\n",
    "    #     # ret = pd.pivot_table(df_r, values=label, index=['date'], columns = ['permno'])\n",
    "    #     # ret = ret.fillna(0.0)\n",
    "\n",
    "    #     expret = pd.pivot_table(df_out_sample, values='pred', index=['date'], columns = ['permno'])\n",
    "    #     expret = expret.fillna(0.0)\n",
    "    #     expret = expret.iloc[0]\n",
    "    #     # print(expret)\n",
    "\n",
    "    #     realized_ret = pd.pivot_table(df_out_sample,values='fwd1d_ret', index=['date'], columns = ['permno'])\n",
    "    #     realized_ret.index = pd.to_datetime(realized_ret.index)\n",
    "    #     realized_ret.fillna(0.0, inplace=True)\n",
    "    #     realized_ret = realized_ret.iloc[0]\n",
    "    #     # print(realized_ret)\n",
    "        \n",
    "\n",
    "    #     excess_return = expret - realized_ret\n",
    "    #     return excess_return\n",
    "    #     # print(excess_return)\n",
    "        \n",
    "\n",
    "\n",
    "\n",
    "    def run_backtest(self):\n",
    "        pred_returns = {}\n",
    "        print('running backtest...')\n",
    "        \n",
    "        return_dict = {}\n",
    "        name_to_append = []\n",
    "        start_date = self.df['date'].min() + pd.Timedelta(days=self.look_back_prm)\n",
    "        end_date = self.df['date'].max() - pd.Timedelta(days=self.get_n_days_rolling() + 1)\n",
    "\n",
    "    # Create a tqdm object to display the progress bar\n",
    "        tqdm_iterator = tqdm(pd.date_range(start=start_date, end=end_date, freq=self.rolling_frq))\n",
    "\n",
    "        for dt in tqdm_iterator:\n",
    "            return_dict[dt] = {}\n",
    "            print('for date: ' + str(dt))\n",
    "            for cfg_name, cfg in self.configurations.items():\n",
    "                # print('processing configuration: ' + cfg_name)\n",
    "                \n",
    "                #############################################\n",
    "                ### ASSIGN CONFIGURATION PARAMETERS #########\n",
    "                last_day_shift = cfg.get('last_day_shift', 5)\n",
    "                label = cfg.get('label', 'fret5d')\n",
    "                features = cfg.get('features', None)\n",
    "                alpha_estimation_method = cfg['alpha_estimation_method']\n",
    "                parsing_pipe = cfg.get('parsing',None)\n",
    "                \n",
    "                #############################################\n",
    "                if features is None: \n",
    "                    print(f'No features specified for {cfg_name}')\n",
    "                    break\n",
    "                \n",
    "                # step0\n",
    "                df = self.df.copy()\n",
    "               \n",
    "                # step1: restrict dataset to insample\n",
    "                ######\n",
    "                  #please note the change to the first version - we shifted the dates by 5 days to avoid look ahead bias\n",
    "                #####\n",
    "                # print('step1: restrict dataset to insample')\n",
    "                df_r = df.loc[np.logical_and(\n",
    "                    df['date'] >= dt - pd.Timedelta(days=self.look_back_prm), \n",
    "                    df['date'] < dt - pd.Timedelta(days = last_day_shift)), :].copy()\n",
    "                \n",
    "                print('       insample period, start date: ' + \n",
    "                       str(df_r['date'].min()) + \n",
    "                       ' end date = ' + \n",
    "                       str(df_r['date'].max()))\n",
    "\n",
    "                # step2: prepare data - filter out outlier, normalise, winsorise, cox-box trasnform\n",
    "                # print('step2: prepare data in-sample')\n",
    "                if parsing_pipe is not None: \n",
    "                    df_r[features] = parsing_pipe.fit_transform(df_r[features])\n",
    "                    df_r.dropna(inplace=True)\n",
    "                else:\n",
    "                    df_r = self.parse_data(df_r, self.level_winsorize,self.feature_names)\n",
    "\n",
    "                # step3: run alpha estimation method\n",
    "                # print(f'step3: run alpha estimation method: {alpha_estimation_method}')\n",
    "                prm,alpha_estimation_name = self.alpha_estimation(df_r, \n",
    "                                            alpha_estimation_method=alpha_estimation_method, \n",
    "                                            label=label, \n",
    "                                            feature_names = features)\n",
    "                print(f'alpha estimation method: {alpha_estimation_name}')\n",
    "                # step4: set out of sample period \n",
    "                # print('step4: set out of sample period')\n",
    "                sel = np.logical_and(\n",
    "                    df['date'] >= dt, \n",
    "                    df['date'] < dt + pd.Timedelta(days=self.get_n_days_rolling()))\n",
    "                if sum(sel)==0:\n",
    "                    continue\n",
    "                    \n",
    "                df_out_sample = df.loc[sel, :].copy()\n",
    "                \n",
    "                print('       out of sample period, start date: ' + \n",
    "                      str(df_out_sample['date'].min()) + \n",
    "                      ' end date = ' + \n",
    "                      str(df_out_sample['date'].max()))\n",
    "                #step5: prepare out of sample data\n",
    "                # print('step5: prepare out of data (only factors!)')\n",
    "                if parsing_pipe is not None:\n",
    "                    df_out_sample[features] = parsing_pipe.transform(df_out_sample[features])\n",
    "                    df_out_sample.dropna(inplace=True)\n",
    "                else: \n",
    "                    df_out_sample = self.parse_data(df_out_sample, self.level_winsorize)\n",
    "                 \n",
    "                # step6: make prediction for out of sample\n",
    "                print('step6: make prediction for out of sample')\n",
    "                df_pred = self.make_prediction(df_out_sample, prm)\n",
    "                df_pred[f'pred_{alpha_estimation_name}']= 0\n",
    "                df_pred[f'pred_{alpha_estimation_name}'] = df_pred['pred']\n",
    "                \n",
    "                # step7: calculate excess return\n",
    "                print('step7: calculate return')\n",
    "                return_dict[dt][f'{alpha_estimation_name}']= df_pred[['permno','date',f'pred_{alpha_estimation_name}']]\n",
    "                # print(return_dict[dt][f'{alpha_estimation_name}'].head())\n",
    "            print(return_dict[dt].keys())\n",
    "            \n",
    "            \n",
    "        return return_dict\n"
   ]
  },
  {
   "cell_type": "code",
   "execution_count": 162,
   "metadata": {},
   "outputs": [],
   "source": [
    "data2.rename(columns={'DlyCalDt':'date'}, inplace=True)\n",
    "data2['date'] = pd.to_datetime(data2['date'])"
   ]
  },
  {
   "cell_type": "code",
   "execution_count": null,
   "metadata": {},
   "outputs": [],
   "source": [
    "model = XGBRegressor()\n",
    "param_grid = {\n",
    "    'n_estimators': [100, 200],\n",
    "    'max_depth': [3, 4],\n",
    "    'learning_rate': [0.05, 0.1],\n",
    "    'subsample': [0.7, 0.8],\n",
    "    'colsample_bytree': [0.7, 0.8],\n",
    "    'gamma': [0, 0.1],\n",
    "    'min_child_weight': [1, 2],\n",
    "    'reg_alpha': [0, 0.1],\n",
    "    'reg_lambda': [1, 1.5]\n",
    "}\n",
    "data3 = data2[features + ['date', 'permno', 'fret5d']]\n",
    "data3.dropna(inplace=True)\n",
    "random_model = RandomizedSearchCV(model, param_grid, n_iter=10, scoring='neg_mean_squared_error', n_jobs=-1, cv=5, verbose=3, random_state=1001)\n",
    "random_model.fit(data3[features], data3['fret5d'])\n",
    "print(random_model.best_score_)\n"
   ]
  },
  {
   "cell_type": "code",
   "execution_count": 344,
   "metadata": {},
   "outputs": [
    {
     "data": {
      "text/plain": [
       "-0.0007530615009963334"
      ]
     },
     "execution_count": 344,
     "metadata": {},
     "output_type": "execute_result"
    }
   ],
   "source": [
    "random_model.best_score_"
   ]
  },
  {
   "cell_type": "code",
   "execution_count": 368,
   "metadata": {},
   "outputs": [
    {
     "name": "stdout",
     "output_type": "stream",
     "text": [
      "running backtest...\n"
     ]
    },
    {
     "name": "stderr",
     "output_type": "stream",
     "text": [
      "  0%|          | 0/47 [00:00<?, ?it/s]"
     ]
    },
    {
     "name": "stdout",
     "output_type": "stream",
     "text": [
      "for date: 2001-01-31 00:00:00\n",
      "       insample period, start date: 1999-02-01 00:00:00 end date = 2001-01-25 00:00:00\n",
      "{'model': RandomizedSearchCV(cv=5,\n",
      "                   estimator=XGBRegressor(base_score=None, booster=None,\n",
      "                                          callbacks=None,\n",
      "                                          colsample_bylevel=None,\n",
      "                                          colsample_bynode=None,\n",
      "                                          colsample_bytree=None,\n",
      "                                          early_stopping_rounds=None,\n",
      "                                          enable_categorical=False,\n",
      "                                          eval_metric=None, feature_types=None,\n",
      "                                          gamma=None, gpu_id=None,\n",
      "                                          grow_policy=None,\n",
      "                                          importance_type=None,\n",
      "                                          interaction_constraints=None,\n",
      "                                          learning_rate=...\n",
      "                                          n_estimators=100, n_jobs=None,\n",
      "                                          num_parallel_tree=None,\n",
      "                                          predictor=None, random_state=None, ...),\n",
      "                   n_jobs=-1,\n",
      "                   param_distributions={'colsample_bytree': [0.6, 0.8, 1.0],\n",
      "                                        'gamma': [0, 0.1, 0.2],\n",
      "                                        'learning_rate': [0.01, 0.1, 0.5],\n",
      "                                        'max_depth': [3, 6, 9],\n",
      "                                        'n_estimators': [50, 100, 200],\n",
      "                                        'reg_alpha': [0, 0.1, 0.5],\n",
      "                                        'reg_lambda': [0, 0.1, 0.5],\n",
      "                                        'subsample': [0.6, 0.8, 1.0]},\n",
      "                   scoring='neg_mean_squared_error'), 'variables': ['DlyPrc', 'DlyCap', 'DlyOrdDivAmt', 'DlyVol', 'DlyClose', 'DlyLow', 'DlyHigh', 'DlyOpen', 'DlyPrcVol', 'ShrOut', 'ps', 'pcf', 'npm', 'gpm', 'capital_ratio', 'de_ratio', 'at_turn', 'MACD', 'RSI']}\n",
      "alpha estimation method: GridSearchCV\n",
      "       out of sample period, start date: 2001-01-31 00:00:00 end date = 2001-03-01 00:00:00\n",
      "step6: make prediction for out of sample\n"
     ]
    },
    {
     "name": "stderr",
     "output_type": "stream",
     "text": [
      "  2%|▏         | 1/47 [04:24<3:22:42, 264.40s/it]"
     ]
    },
    {
     "name": "stdout",
     "output_type": "stream",
     "text": [
      "step7: calculate return\n",
      "dict_keys(['GridSearchCV'])\n",
      "for date: 2001-02-28 00:00:00\n",
      "       insample period, start date: 1999-03-01 00:00:00 end date = 2001-02-22 00:00:00\n",
      "{'model': RandomizedSearchCV(cv=5,\n",
      "                   estimator=XGBRegressor(base_score=None, booster=None,\n",
      "                                          callbacks=None,\n",
      "                                          colsample_bylevel=None,\n",
      "                                          colsample_bynode=None,\n",
      "                                          colsample_bytree=None,\n",
      "                                          early_stopping_rounds=None,\n",
      "                                          enable_categorical=False,\n",
      "                                          eval_metric=None, feature_types=None,\n",
      "                                          gamma=None, gpu_id=None,\n",
      "                                          grow_policy=None,\n",
      "                                          importance_type=None,\n",
      "                                          interaction_constraints=None,\n",
      "                                          learning_rate=...\n",
      "                                          n_estimators=100, n_jobs=None,\n",
      "                                          num_parallel_tree=None,\n",
      "                                          predictor=None, random_state=None, ...),\n",
      "                   n_jobs=-1,\n",
      "                   param_distributions={'colsample_bytree': [0.6, 0.8, 1.0],\n",
      "                                        'gamma': [0, 0.1, 0.2],\n",
      "                                        'learning_rate': [0.01, 0.1, 0.5],\n",
      "                                        'max_depth': [3, 6, 9],\n",
      "                                        'n_estimators': [50, 100, 200],\n",
      "                                        'reg_alpha': [0, 0.1, 0.5],\n",
      "                                        'reg_lambda': [0, 0.1, 0.5],\n",
      "                                        'subsample': [0.6, 0.8, 1.0]},\n",
      "                   scoring='neg_mean_squared_error'), 'variables': ['DlyPrc', 'DlyCap', 'DlyOrdDivAmt', 'DlyVol', 'DlyClose', 'DlyLow', 'DlyHigh', 'DlyOpen', 'DlyPrcVol', 'ShrOut', 'ps', 'pcf', 'npm', 'gpm', 'capital_ratio', 'de_ratio', 'at_turn', 'MACD', 'RSI']}\n",
      "alpha estimation method: GridSearchCV\n",
      "       out of sample period, start date: 2001-02-28 00:00:00 end date = 2001-03-29 00:00:00\n",
      "step6: make prediction for out of sample\n"
     ]
    },
    {
     "name": "stderr",
     "output_type": "stream",
     "text": [
      "  4%|▍         | 2/47 [09:08<3:27:05, 276.13s/it]"
     ]
    },
    {
     "name": "stdout",
     "output_type": "stream",
     "text": [
      "step7: calculate return\n",
      "dict_keys(['GridSearchCV'])\n",
      "for date: 2001-03-31 00:00:00\n",
      "       insample period, start date: 1999-04-01 00:00:00 end date = 2001-03-23 00:00:00\n",
      "{'model': RandomizedSearchCV(cv=5,\n",
      "                   estimator=XGBRegressor(base_score=None, booster=None,\n",
      "                                          callbacks=None,\n",
      "                                          colsample_bylevel=None,\n",
      "                                          colsample_bynode=None,\n",
      "                                          colsample_bytree=None,\n",
      "                                          early_stopping_rounds=None,\n",
      "                                          enable_categorical=False,\n",
      "                                          eval_metric=None, feature_types=None,\n",
      "                                          gamma=None, gpu_id=None,\n",
      "                                          grow_policy=None,\n",
      "                                          importance_type=None,\n",
      "                                          interaction_constraints=None,\n",
      "                                          learning_rate=...\n",
      "                                          n_estimators=100, n_jobs=None,\n",
      "                                          num_parallel_tree=None,\n",
      "                                          predictor=None, random_state=None, ...),\n",
      "                   n_jobs=-1,\n",
      "                   param_distributions={'colsample_bytree': [0.6, 0.8, 1.0],\n",
      "                                        'gamma': [0, 0.1, 0.2],\n",
      "                                        'learning_rate': [0.01, 0.1, 0.5],\n",
      "                                        'max_depth': [3, 6, 9],\n",
      "                                        'n_estimators': [50, 100, 200],\n",
      "                                        'reg_alpha': [0, 0.1, 0.5],\n",
      "                                        'reg_lambda': [0, 0.1, 0.5],\n",
      "                                        'subsample': [0.6, 0.8, 1.0]},\n",
      "                   scoring='neg_mean_squared_error'), 'variables': ['DlyPrc', 'DlyCap', 'DlyOrdDivAmt', 'DlyVol', 'DlyClose', 'DlyLow', 'DlyHigh', 'DlyOpen', 'DlyPrcVol', 'ShrOut', 'ps', 'pcf', 'npm', 'gpm', 'capital_ratio', 'de_ratio', 'at_turn', 'MACD', 'RSI']}\n",
      "alpha estimation method: GridSearchCV\n",
      "       out of sample period, start date: 2001-04-02 00:00:00 end date = 2001-04-27 00:00:00\n",
      "step6: make prediction for out of sample\n"
     ]
    },
    {
     "name": "stderr",
     "output_type": "stream",
     "text": [
      "  6%|▋         | 3/47 [14:41<3:41:20, 301.83s/it]"
     ]
    },
    {
     "name": "stdout",
     "output_type": "stream",
     "text": [
      "step7: calculate return\n",
      "dict_keys(['GridSearchCV'])\n",
      "for date: 2001-04-30 00:00:00\n",
      "       insample period, start date: 1999-05-03 00:00:00 end date = 2001-04-24 00:00:00\n",
      "{'model': RandomizedSearchCV(cv=5,\n",
      "                   estimator=XGBRegressor(base_score=None, booster=None,\n",
      "                                          callbacks=None,\n",
      "                                          colsample_bylevel=None,\n",
      "                                          colsample_bynode=None,\n",
      "                                          colsample_bytree=None,\n",
      "                                          early_stopping_rounds=None,\n",
      "                                          enable_categorical=False,\n",
      "                                          eval_metric=None, feature_types=None,\n",
      "                                          gamma=None, gpu_id=None,\n",
      "                                          grow_policy=None,\n",
      "                                          importance_type=None,\n",
      "                                          interaction_constraints=None,\n",
      "                                          learning_rate=...\n",
      "                                          n_estimators=100, n_jobs=None,\n",
      "                                          num_parallel_tree=None,\n",
      "                                          predictor=None, random_state=None, ...),\n",
      "                   n_jobs=-1,\n",
      "                   param_distributions={'colsample_bytree': [0.6, 0.8, 1.0],\n",
      "                                        'gamma': [0, 0.1, 0.2],\n",
      "                                        'learning_rate': [0.01, 0.1, 0.5],\n",
      "                                        'max_depth': [3, 6, 9],\n",
      "                                        'n_estimators': [50, 100, 200],\n",
      "                                        'reg_alpha': [0, 0.1, 0.5],\n",
      "                                        'reg_lambda': [0, 0.1, 0.5],\n",
      "                                        'subsample': [0.6, 0.8, 1.0]},\n",
      "                   scoring='neg_mean_squared_error'), 'variables': ['DlyPrc', 'DlyCap', 'DlyOrdDivAmt', 'DlyVol', 'DlyClose', 'DlyLow', 'DlyHigh', 'DlyOpen', 'DlyPrcVol', 'ShrOut', 'ps', 'pcf', 'npm', 'gpm', 'capital_ratio', 'de_ratio', 'at_turn', 'MACD', 'RSI']}\n",
      "alpha estimation method: GridSearchCV\n",
      "       out of sample period, start date: 2001-04-30 00:00:00 end date = 2001-05-29 00:00:00\n",
      "step6: make prediction for out of sample\n"
     ]
    },
    {
     "name": "stderr",
     "output_type": "stream",
     "text": [
      "  9%|▊         | 4/47 [21:12<4:01:44, 337.31s/it]"
     ]
    },
    {
     "name": "stdout",
     "output_type": "stream",
     "text": [
      "step7: calculate return\n",
      "dict_keys(['GridSearchCV'])\n",
      "for date: 2001-05-31 00:00:00\n",
      "       insample period, start date: 1999-06-01 00:00:00 end date = 2001-05-25 00:00:00\n",
      "{'model': RandomizedSearchCV(cv=5,\n",
      "                   estimator=XGBRegressor(base_score=None, booster=None,\n",
      "                                          callbacks=None,\n",
      "                                          colsample_bylevel=None,\n",
      "                                          colsample_bynode=None,\n",
      "                                          colsample_bytree=None,\n",
      "                                          early_stopping_rounds=None,\n",
      "                                          enable_categorical=False,\n",
      "                                          eval_metric=None, feature_types=None,\n",
      "                                          gamma=None, gpu_id=None,\n",
      "                                          grow_policy=None,\n",
      "                                          importance_type=None,\n",
      "                                          interaction_constraints=None,\n",
      "                                          learning_rate=...\n",
      "                                          n_estimators=100, n_jobs=None,\n",
      "                                          num_parallel_tree=None,\n",
      "                                          predictor=None, random_state=None, ...),\n",
      "                   n_jobs=-1,\n",
      "                   param_distributions={'colsample_bytree': [0.6, 0.8, 1.0],\n",
      "                                        'gamma': [0, 0.1, 0.2],\n",
      "                                        'learning_rate': [0.01, 0.1, 0.5],\n",
      "                                        'max_depth': [3, 6, 9],\n",
      "                                        'n_estimators': [50, 100, 200],\n",
      "                                        'reg_alpha': [0, 0.1, 0.5],\n",
      "                                        'reg_lambda': [0, 0.1, 0.5],\n",
      "                                        'subsample': [0.6, 0.8, 1.0]},\n",
      "                   scoring='neg_mean_squared_error'), 'variables': ['DlyPrc', 'DlyCap', 'DlyOrdDivAmt', 'DlyVol', 'DlyClose', 'DlyLow', 'DlyHigh', 'DlyOpen', 'DlyPrcVol', 'ShrOut', 'ps', 'pcf', 'npm', 'gpm', 'capital_ratio', 'de_ratio', 'at_turn', 'MACD', 'RSI']}\n",
      "alpha estimation method: GridSearchCV\n",
      "       out of sample period, start date: 2001-05-31 00:00:00 end date = 2001-06-29 00:00:00\n",
      "step6: make prediction for out of sample\n"
     ]
    },
    {
     "name": "stderr",
     "output_type": "stream",
     "text": [
      " 11%|█         | 5/47 [25:00<3:28:32, 297.93s/it]"
     ]
    },
    {
     "name": "stdout",
     "output_type": "stream",
     "text": [
      "step7: calculate return\n",
      "dict_keys(['GridSearchCV'])\n",
      "for date: 2001-06-30 00:00:00\n",
      "       insample period, start date: 1999-07-01 00:00:00 end date = 2001-06-22 00:00:00\n",
      "{'model': RandomizedSearchCV(cv=5,\n",
      "                   estimator=XGBRegressor(base_score=None, booster=None,\n",
      "                                          callbacks=None,\n",
      "                                          colsample_bylevel=None,\n",
      "                                          colsample_bynode=None,\n",
      "                                          colsample_bytree=None,\n",
      "                                          early_stopping_rounds=None,\n",
      "                                          enable_categorical=False,\n",
      "                                          eval_metric=None, feature_types=None,\n",
      "                                          gamma=None, gpu_id=None,\n",
      "                                          grow_policy=None,\n",
      "                                          importance_type=None,\n",
      "                                          interaction_constraints=None,\n",
      "                                          learning_rate=...\n",
      "                                          n_estimators=100, n_jobs=None,\n",
      "                                          num_parallel_tree=None,\n",
      "                                          predictor=None, random_state=None, ...),\n",
      "                   n_jobs=-1,\n",
      "                   param_distributions={'colsample_bytree': [0.6, 0.8, 1.0],\n",
      "                                        'gamma': [0, 0.1, 0.2],\n",
      "                                        'learning_rate': [0.01, 0.1, 0.5],\n",
      "                                        'max_depth': [3, 6, 9],\n",
      "                                        'n_estimators': [50, 100, 200],\n",
      "                                        'reg_alpha': [0, 0.1, 0.5],\n",
      "                                        'reg_lambda': [0, 0.1, 0.5],\n",
      "                                        'subsample': [0.6, 0.8, 1.0]},\n",
      "                   scoring='neg_mean_squared_error'), 'variables': ['DlyPrc', 'DlyCap', 'DlyOrdDivAmt', 'DlyVol', 'DlyClose', 'DlyLow', 'DlyHigh', 'DlyOpen', 'DlyPrcVol', 'ShrOut', 'ps', 'pcf', 'npm', 'gpm', 'capital_ratio', 'de_ratio', 'at_turn', 'MACD', 'RSI']}\n",
      "alpha estimation method: GridSearchCV\n",
      "       out of sample period, start date: 2001-07-02 00:00:00 end date = 2001-07-27 00:00:00\n",
      "step6: make prediction for out of sample\n"
     ]
    },
    {
     "name": "stderr",
     "output_type": "stream",
     "text": [
      " 13%|█▎        | 6/47 [29:04<3:11:02, 279.56s/it]"
     ]
    },
    {
     "name": "stdout",
     "output_type": "stream",
     "text": [
      "step7: calculate return\n",
      "dict_keys(['GridSearchCV'])\n",
      "for date: 2001-07-31 00:00:00\n",
      "       insample period, start date: 1999-08-02 00:00:00 end date = 2001-07-25 00:00:00\n",
      "{'model': RandomizedSearchCV(cv=5,\n",
      "                   estimator=XGBRegressor(base_score=None, booster=None,\n",
      "                                          callbacks=None,\n",
      "                                          colsample_bylevel=None,\n",
      "                                          colsample_bynode=None,\n",
      "                                          colsample_bytree=None,\n",
      "                                          early_stopping_rounds=None,\n",
      "                                          enable_categorical=False,\n",
      "                                          eval_metric=None, feature_types=None,\n",
      "                                          gamma=None, gpu_id=None,\n",
      "                                          grow_policy=None,\n",
      "                                          importance_type=None,\n",
      "                                          interaction_constraints=None,\n",
      "                                          learning_rate=...\n",
      "                                          n_estimators=100, n_jobs=None,\n",
      "                                          num_parallel_tree=None,\n",
      "                                          predictor=None, random_state=None, ...),\n",
      "                   n_jobs=-1,\n",
      "                   param_distributions={'colsample_bytree': [0.6, 0.8, 1.0],\n",
      "                                        'gamma': [0, 0.1, 0.2],\n",
      "                                        'learning_rate': [0.01, 0.1, 0.5],\n",
      "                                        'max_depth': [3, 6, 9],\n",
      "                                        'n_estimators': [50, 100, 200],\n",
      "                                        'reg_alpha': [0, 0.1, 0.5],\n",
      "                                        'reg_lambda': [0, 0.1, 0.5],\n",
      "                                        'subsample': [0.6, 0.8, 1.0]},\n",
      "                   scoring='neg_mean_squared_error'), 'variables': ['DlyPrc', 'DlyCap', 'DlyOrdDivAmt', 'DlyVol', 'DlyClose', 'DlyLow', 'DlyHigh', 'DlyOpen', 'DlyPrcVol', 'ShrOut', 'ps', 'pcf', 'npm', 'gpm', 'capital_ratio', 'de_ratio', 'at_turn', 'MACD', 'RSI']}\n",
      "alpha estimation method: GridSearchCV\n",
      "       out of sample period, start date: 2001-07-31 00:00:00 end date = 2001-08-29 00:00:00\n",
      "step6: make prediction for out of sample\n"
     ]
    },
    {
     "name": "stderr",
     "output_type": "stream",
     "text": [
      " 15%|█▍        | 7/47 [34:00<3:09:55, 284.88s/it]"
     ]
    },
    {
     "name": "stdout",
     "output_type": "stream",
     "text": [
      "step7: calculate return\n",
      "dict_keys(['GridSearchCV'])\n",
      "for date: 2001-08-31 00:00:00\n",
      "       insample period, start date: 1999-09-01 00:00:00 end date = 2001-08-24 00:00:00\n",
      "{'model': RandomizedSearchCV(cv=5,\n",
      "                   estimator=XGBRegressor(base_score=None, booster=None,\n",
      "                                          callbacks=None,\n",
      "                                          colsample_bylevel=None,\n",
      "                                          colsample_bynode=None,\n",
      "                                          colsample_bytree=None,\n",
      "                                          early_stopping_rounds=None,\n",
      "                                          enable_categorical=False,\n",
      "                                          eval_metric=None, feature_types=None,\n",
      "                                          gamma=None, gpu_id=None,\n",
      "                                          grow_policy=None,\n",
      "                                          importance_type=None,\n",
      "                                          interaction_constraints=None,\n",
      "                                          learning_rate=...\n",
      "                                          n_estimators=100, n_jobs=None,\n",
      "                                          num_parallel_tree=None,\n",
      "                                          predictor=None, random_state=None, ...),\n",
      "                   n_jobs=-1,\n",
      "                   param_distributions={'colsample_bytree': [0.6, 0.8, 1.0],\n",
      "                                        'gamma': [0, 0.1, 0.2],\n",
      "                                        'learning_rate': [0.01, 0.1, 0.5],\n",
      "                                        'max_depth': [3, 6, 9],\n",
      "                                        'n_estimators': [50, 100, 200],\n",
      "                                        'reg_alpha': [0, 0.1, 0.5],\n",
      "                                        'reg_lambda': [0, 0.1, 0.5],\n",
      "                                        'subsample': [0.6, 0.8, 1.0]},\n",
      "                   scoring='neg_mean_squared_error'), 'variables': ['DlyPrc', 'DlyCap', 'DlyOrdDivAmt', 'DlyVol', 'DlyClose', 'DlyLow', 'DlyHigh', 'DlyOpen', 'DlyPrcVol', 'ShrOut', 'ps', 'pcf', 'npm', 'gpm', 'capital_ratio', 'de_ratio', 'at_turn', 'MACD', 'RSI']}\n",
      "alpha estimation method: GridSearchCV\n",
      "       out of sample period, start date: 2001-08-31 00:00:00 end date = 2001-09-28 00:00:00\n",
      "step6: make prediction for out of sample\n"
     ]
    },
    {
     "name": "stderr",
     "output_type": "stream",
     "text": [
      " 17%|█▋        | 8/47 [36:38<2:38:58, 244.58s/it]"
     ]
    },
    {
     "name": "stdout",
     "output_type": "stream",
     "text": [
      "step7: calculate return\n",
      "dict_keys(['GridSearchCV'])\n",
      "for date: 2001-09-30 00:00:00\n",
      "       insample period, start date: 1999-10-01 00:00:00 end date = 2001-09-24 00:00:00\n",
      "{'model': RandomizedSearchCV(cv=5,\n",
      "                   estimator=XGBRegressor(base_score=None, booster=None,\n",
      "                                          callbacks=None,\n",
      "                                          colsample_bylevel=None,\n",
      "                                          colsample_bynode=None,\n",
      "                                          colsample_bytree=None,\n",
      "                                          early_stopping_rounds=None,\n",
      "                                          enable_categorical=False,\n",
      "                                          eval_metric=None, feature_types=None,\n",
      "                                          gamma=None, gpu_id=None,\n",
      "                                          grow_policy=None,\n",
      "                                          importance_type=None,\n",
      "                                          interaction_constraints=None,\n",
      "                                          learning_rate=...\n",
      "                                          n_estimators=100, n_jobs=None,\n",
      "                                          num_parallel_tree=None,\n",
      "                                          predictor=None, random_state=None, ...),\n",
      "                   n_jobs=-1,\n",
      "                   param_distributions={'colsample_bytree': [0.6, 0.8, 1.0],\n",
      "                                        'gamma': [0, 0.1, 0.2],\n",
      "                                        'learning_rate': [0.01, 0.1, 0.5],\n",
      "                                        'max_depth': [3, 6, 9],\n",
      "                                        'n_estimators': [50, 100, 200],\n",
      "                                        'reg_alpha': [0, 0.1, 0.5],\n",
      "                                        'reg_lambda': [0, 0.1, 0.5],\n",
      "                                        'subsample': [0.6, 0.8, 1.0]},\n",
      "                   scoring='neg_mean_squared_error'), 'variables': ['DlyPrc', 'DlyCap', 'DlyOrdDivAmt', 'DlyVol', 'DlyClose', 'DlyLow', 'DlyHigh', 'DlyOpen', 'DlyPrcVol', 'ShrOut', 'ps', 'pcf', 'npm', 'gpm', 'capital_ratio', 'de_ratio', 'at_turn', 'MACD', 'RSI']}\n",
      "alpha estimation method: GridSearchCV\n",
      "       out of sample period, start date: 2001-10-01 00:00:00 end date = 2001-10-29 00:00:00\n",
      "step6: make prediction for out of sample\n"
     ]
    },
    {
     "name": "stderr",
     "output_type": "stream",
     "text": [
      " 19%|█▉        | 9/47 [40:35<2:33:24, 242.21s/it]"
     ]
    },
    {
     "name": "stdout",
     "output_type": "stream",
     "text": [
      "step7: calculate return\n",
      "dict_keys(['GridSearchCV'])\n",
      "for date: 2001-10-31 00:00:00\n",
      "       insample period, start date: 1999-11-01 00:00:00 end date = 2001-10-25 00:00:00\n",
      "{'model': RandomizedSearchCV(cv=5,\n",
      "                   estimator=XGBRegressor(base_score=None, booster=None,\n",
      "                                          callbacks=None,\n",
      "                                          colsample_bylevel=None,\n",
      "                                          colsample_bynode=None,\n",
      "                                          colsample_bytree=None,\n",
      "                                          early_stopping_rounds=None,\n",
      "                                          enable_categorical=False,\n",
      "                                          eval_metric=None, feature_types=None,\n",
      "                                          gamma=None, gpu_id=None,\n",
      "                                          grow_policy=None,\n",
      "                                          importance_type=None,\n",
      "                                          interaction_constraints=None,\n",
      "                                          learning_rate=...\n",
      "                                          n_estimators=100, n_jobs=None,\n",
      "                                          num_parallel_tree=None,\n",
      "                                          predictor=None, random_state=None, ...),\n",
      "                   n_jobs=-1,\n",
      "                   param_distributions={'colsample_bytree': [0.6, 0.8, 1.0],\n",
      "                                        'gamma': [0, 0.1, 0.2],\n",
      "                                        'learning_rate': [0.01, 0.1, 0.5],\n",
      "                                        'max_depth': [3, 6, 9],\n",
      "                                        'n_estimators': [50, 100, 200],\n",
      "                                        'reg_alpha': [0, 0.1, 0.5],\n",
      "                                        'reg_lambda': [0, 0.1, 0.5],\n",
      "                                        'subsample': [0.6, 0.8, 1.0]},\n",
      "                   scoring='neg_mean_squared_error'), 'variables': ['DlyPrc', 'DlyCap', 'DlyOrdDivAmt', 'DlyVol', 'DlyClose', 'DlyLow', 'DlyHigh', 'DlyOpen', 'DlyPrcVol', 'ShrOut', 'ps', 'pcf', 'npm', 'gpm', 'capital_ratio', 'de_ratio', 'at_turn', 'MACD', 'RSI']}\n",
      "alpha estimation method: GridSearchCV\n",
      "       out of sample period, start date: 2001-10-31 00:00:00 end date = 2001-11-29 00:00:00\n",
      "step6: make prediction for out of sample\n"
     ]
    },
    {
     "name": "stderr",
     "output_type": "stream",
     "text": [
      " 21%|██▏       | 10/47 [43:15<2:13:34, 216.61s/it]"
     ]
    },
    {
     "name": "stdout",
     "output_type": "stream",
     "text": [
      "step7: calculate return\n",
      "dict_keys(['GridSearchCV'])\n",
      "for date: 2001-11-30 00:00:00\n",
      "       insample period, start date: 1999-12-01 00:00:00 end date = 2001-11-23 00:00:00\n",
      "{'model': RandomizedSearchCV(cv=5,\n",
      "                   estimator=XGBRegressor(base_score=None, booster=None,\n",
      "                                          callbacks=None,\n",
      "                                          colsample_bylevel=None,\n",
      "                                          colsample_bynode=None,\n",
      "                                          colsample_bytree=None,\n",
      "                                          early_stopping_rounds=None,\n",
      "                                          enable_categorical=False,\n",
      "                                          eval_metric=None, feature_types=None,\n",
      "                                          gamma=None, gpu_id=None,\n",
      "                                          grow_policy=None,\n",
      "                                          importance_type=None,\n",
      "                                          interaction_constraints=None,\n",
      "                                          learning_rate=...\n",
      "                                          n_estimators=100, n_jobs=None,\n",
      "                                          num_parallel_tree=None,\n",
      "                                          predictor=None, random_state=None, ...),\n",
      "                   n_jobs=-1,\n",
      "                   param_distributions={'colsample_bytree': [0.6, 0.8, 1.0],\n",
      "                                        'gamma': [0, 0.1, 0.2],\n",
      "                                        'learning_rate': [0.01, 0.1, 0.5],\n",
      "                                        'max_depth': [3, 6, 9],\n",
      "                                        'n_estimators': [50, 100, 200],\n",
      "                                        'reg_alpha': [0, 0.1, 0.5],\n",
      "                                        'reg_lambda': [0, 0.1, 0.5],\n",
      "                                        'subsample': [0.6, 0.8, 1.0]},\n",
      "                   scoring='neg_mean_squared_error'), 'variables': ['DlyPrc', 'DlyCap', 'DlyOrdDivAmt', 'DlyVol', 'DlyClose', 'DlyLow', 'DlyHigh', 'DlyOpen', 'DlyPrcVol', 'ShrOut', 'ps', 'pcf', 'npm', 'gpm', 'capital_ratio', 'de_ratio', 'at_turn', 'MACD', 'RSI']}\n",
      "alpha estimation method: GridSearchCV\n",
      "       out of sample period, start date: 2001-11-30 00:00:00 end date = 2001-12-28 00:00:00\n",
      "step6: make prediction for out of sample\n"
     ]
    },
    {
     "name": "stderr",
     "output_type": "stream",
     "text": [
      " 23%|██▎       | 11/47 [47:12<2:13:50, 223.07s/it]"
     ]
    },
    {
     "name": "stdout",
     "output_type": "stream",
     "text": [
      "step7: calculate return\n",
      "dict_keys(['GridSearchCV'])\n",
      "for date: 2001-12-31 00:00:00\n",
      "       insample period, start date: 2000-01-03 00:00:00 end date = 2001-12-24 00:00:00\n",
      "{'model': RandomizedSearchCV(cv=5,\n",
      "                   estimator=XGBRegressor(base_score=None, booster=None,\n",
      "                                          callbacks=None,\n",
      "                                          colsample_bylevel=None,\n",
      "                                          colsample_bynode=None,\n",
      "                                          colsample_bytree=None,\n",
      "                                          early_stopping_rounds=None,\n",
      "                                          enable_categorical=False,\n",
      "                                          eval_metric=None, feature_types=None,\n",
      "                                          gamma=None, gpu_id=None,\n",
      "                                          grow_policy=None,\n",
      "                                          importance_type=None,\n",
      "                                          interaction_constraints=None,\n",
      "                                          learning_rate=...\n",
      "                                          n_estimators=100, n_jobs=None,\n",
      "                                          num_parallel_tree=None,\n",
      "                                          predictor=None, random_state=None, ...),\n",
      "                   n_jobs=-1,\n",
      "                   param_distributions={'colsample_bytree': [0.6, 0.8, 1.0],\n",
      "                                        'gamma': [0, 0.1, 0.2],\n",
      "                                        'learning_rate': [0.01, 0.1, 0.5],\n",
      "                                        'max_depth': [3, 6, 9],\n",
      "                                        'n_estimators': [50, 100, 200],\n",
      "                                        'reg_alpha': [0, 0.1, 0.5],\n",
      "                                        'reg_lambda': [0, 0.1, 0.5],\n",
      "                                        'subsample': [0.6, 0.8, 1.0]},\n",
      "                   scoring='neg_mean_squared_error'), 'variables': ['DlyPrc', 'DlyCap', 'DlyOrdDivAmt', 'DlyVol', 'DlyClose', 'DlyLow', 'DlyHigh', 'DlyOpen', 'DlyPrcVol', 'ShrOut', 'ps', 'pcf', 'npm', 'gpm', 'capital_ratio', 'de_ratio', 'at_turn', 'MACD', 'RSI']}\n",
      "alpha estimation method: GridSearchCV\n",
      "       out of sample period, start date: 2001-12-31 00:00:00 end date = 2002-01-29 00:00:00\n",
      "step6: make prediction for out of sample\n"
     ]
    },
    {
     "name": "stderr",
     "output_type": "stream",
     "text": [
      " 26%|██▌       | 12/47 [51:29<2:16:04, 233.28s/it]"
     ]
    },
    {
     "name": "stdout",
     "output_type": "stream",
     "text": [
      "step7: calculate return\n",
      "dict_keys(['GridSearchCV'])\n",
      "for date: 2002-01-31 00:00:00\n",
      "       insample period, start date: 2000-02-01 00:00:00 end date = 2002-01-25 00:00:00\n",
      "{'model': RandomizedSearchCV(cv=5,\n",
      "                   estimator=XGBRegressor(base_score=None, booster=None,\n",
      "                                          callbacks=None,\n",
      "                                          colsample_bylevel=None,\n",
      "                                          colsample_bynode=None,\n",
      "                                          colsample_bytree=None,\n",
      "                                          early_stopping_rounds=None,\n",
      "                                          enable_categorical=False,\n",
      "                                          eval_metric=None, feature_types=None,\n",
      "                                          gamma=None, gpu_id=None,\n",
      "                                          grow_policy=None,\n",
      "                                          importance_type=None,\n",
      "                                          interaction_constraints=None,\n",
      "                                          learning_rate=...\n",
      "                                          n_estimators=100, n_jobs=None,\n",
      "                                          num_parallel_tree=None,\n",
      "                                          predictor=None, random_state=None, ...),\n",
      "                   n_jobs=-1,\n",
      "                   param_distributions={'colsample_bytree': [0.6, 0.8, 1.0],\n",
      "                                        'gamma': [0, 0.1, 0.2],\n",
      "                                        'learning_rate': [0.01, 0.1, 0.5],\n",
      "                                        'max_depth': [3, 6, 9],\n",
      "                                        'n_estimators': [50, 100, 200],\n",
      "                                        'reg_alpha': [0, 0.1, 0.5],\n",
      "                                        'reg_lambda': [0, 0.1, 0.5],\n",
      "                                        'subsample': [0.6, 0.8, 1.0]},\n",
      "                   scoring='neg_mean_squared_error'), 'variables': ['DlyPrc', 'DlyCap', 'DlyOrdDivAmt', 'DlyVol', 'DlyClose', 'DlyLow', 'DlyHigh', 'DlyOpen', 'DlyPrcVol', 'ShrOut', 'ps', 'pcf', 'npm', 'gpm', 'capital_ratio', 'de_ratio', 'at_turn', 'MACD', 'RSI']}\n",
      "alpha estimation method: GridSearchCV\n",
      "       out of sample period, start date: 2002-01-31 00:00:00 end date = 2002-03-01 00:00:00\n",
      "step6: make prediction for out of sample\n"
     ]
    },
    {
     "name": "stderr",
     "output_type": "stream",
     "text": [
      " 28%|██▊       | 13/47 [57:10<2:30:43, 266.00s/it]"
     ]
    },
    {
     "name": "stdout",
     "output_type": "stream",
     "text": [
      "step7: calculate return\n",
      "dict_keys(['GridSearchCV'])\n",
      "for date: 2002-02-28 00:00:00\n",
      "       insample period, start date: 2000-02-29 00:00:00 end date = 2002-02-22 00:00:00\n",
      "{'model': RandomizedSearchCV(cv=5,\n",
      "                   estimator=XGBRegressor(base_score=None, booster=None,\n",
      "                                          callbacks=None,\n",
      "                                          colsample_bylevel=None,\n",
      "                                          colsample_bynode=None,\n",
      "                                          colsample_bytree=None,\n",
      "                                          early_stopping_rounds=None,\n",
      "                                          enable_categorical=False,\n",
      "                                          eval_metric=None, feature_types=None,\n",
      "                                          gamma=None, gpu_id=None,\n",
      "                                          grow_policy=None,\n",
      "                                          importance_type=None,\n",
      "                                          interaction_constraints=None,\n",
      "                                          learning_rate=...\n",
      "                                          n_estimators=100, n_jobs=None,\n",
      "                                          num_parallel_tree=None,\n",
      "                                          predictor=None, random_state=None, ...),\n",
      "                   n_jobs=-1,\n",
      "                   param_distributions={'colsample_bytree': [0.6, 0.8, 1.0],\n",
      "                                        'gamma': [0, 0.1, 0.2],\n",
      "                                        'learning_rate': [0.01, 0.1, 0.5],\n",
      "                                        'max_depth': [3, 6, 9],\n",
      "                                        'n_estimators': [50, 100, 200],\n",
      "                                        'reg_alpha': [0, 0.1, 0.5],\n",
      "                                        'reg_lambda': [0, 0.1, 0.5],\n",
      "                                        'subsample': [0.6, 0.8, 1.0]},\n",
      "                   scoring='neg_mean_squared_error'), 'variables': ['DlyPrc', 'DlyCap', 'DlyOrdDivAmt', 'DlyVol', 'DlyClose', 'DlyLow', 'DlyHigh', 'DlyOpen', 'DlyPrcVol', 'ShrOut', 'ps', 'pcf', 'npm', 'gpm', 'capital_ratio', 'de_ratio', 'at_turn', 'MACD', 'RSI']}\n",
      "alpha estimation method: GridSearchCV\n",
      "       out of sample period, start date: 2002-02-28 00:00:00 end date = 2002-03-28 00:00:00\n",
      "step6: make prediction for out of sample\n"
     ]
    },
    {
     "name": "stderr",
     "output_type": "stream",
     "text": [
      " 30%|██▉       | 14/47 [1:00:03<2:10:48, 237.82s/it]"
     ]
    },
    {
     "name": "stdout",
     "output_type": "stream",
     "text": [
      "step7: calculate return\n",
      "dict_keys(['GridSearchCV'])\n",
      "for date: 2002-03-31 00:00:00\n",
      "       insample period, start date: 2000-03-31 00:00:00 end date = 2002-03-25 00:00:00\n",
      "{'model': RandomizedSearchCV(cv=5,\n",
      "                   estimator=XGBRegressor(base_score=None, booster=None,\n",
      "                                          callbacks=None,\n",
      "                                          colsample_bylevel=None,\n",
      "                                          colsample_bynode=None,\n",
      "                                          colsample_bytree=None,\n",
      "                                          early_stopping_rounds=None,\n",
      "                                          enable_categorical=False,\n",
      "                                          eval_metric=None, feature_types=None,\n",
      "                                          gamma=None, gpu_id=None,\n",
      "                                          grow_policy=None,\n",
      "                                          importance_type=None,\n",
      "                                          interaction_constraints=None,\n",
      "                                          learning_rate=...\n",
      "                                          n_estimators=100, n_jobs=None,\n",
      "                                          num_parallel_tree=None,\n",
      "                                          predictor=None, random_state=None, ...),\n",
      "                   n_jobs=-1,\n",
      "                   param_distributions={'colsample_bytree': [0.6, 0.8, 1.0],\n",
      "                                        'gamma': [0, 0.1, 0.2],\n",
      "                                        'learning_rate': [0.01, 0.1, 0.5],\n",
      "                                        'max_depth': [3, 6, 9],\n",
      "                                        'n_estimators': [50, 100, 200],\n",
      "                                        'reg_alpha': [0, 0.1, 0.5],\n",
      "                                        'reg_lambda': [0, 0.1, 0.5],\n",
      "                                        'subsample': [0.6, 0.8, 1.0]},\n",
      "                   scoring='neg_mean_squared_error'), 'variables': ['DlyPrc', 'DlyCap', 'DlyOrdDivAmt', 'DlyVol', 'DlyClose', 'DlyLow', 'DlyHigh', 'DlyOpen', 'DlyPrcVol', 'ShrOut', 'ps', 'pcf', 'npm', 'gpm', 'capital_ratio', 'de_ratio', 'at_turn', 'MACD', 'RSI']}\n",
      "alpha estimation method: GridSearchCV\n",
      "       out of sample period, start date: 2002-04-01 00:00:00 end date = 2002-04-29 00:00:00\n",
      "step6: make prediction for out of sample\n"
     ]
    },
    {
     "name": "stderr",
     "output_type": "stream",
     "text": [
      " 32%|███▏      | 15/47 [1:05:19<2:19:21, 261.30s/it]"
     ]
    },
    {
     "name": "stdout",
     "output_type": "stream",
     "text": [
      "step7: calculate return\n",
      "dict_keys(['GridSearchCV'])\n",
      "for date: 2002-04-30 00:00:00\n",
      "       insample period, start date: 2000-05-01 00:00:00 end date = 2002-04-24 00:00:00\n",
      "{'model': RandomizedSearchCV(cv=5,\n",
      "                   estimator=XGBRegressor(base_score=None, booster=None,\n",
      "                                          callbacks=None,\n",
      "                                          colsample_bylevel=None,\n",
      "                                          colsample_bynode=None,\n",
      "                                          colsample_bytree=None,\n",
      "                                          early_stopping_rounds=None,\n",
      "                                          enable_categorical=False,\n",
      "                                          eval_metric=None, feature_types=None,\n",
      "                                          gamma=None, gpu_id=None,\n",
      "                                          grow_policy=None,\n",
      "                                          importance_type=None,\n",
      "                                          interaction_constraints=None,\n",
      "                                          learning_rate=...\n",
      "                                          n_estimators=100, n_jobs=None,\n",
      "                                          num_parallel_tree=None,\n",
      "                                          predictor=None, random_state=None, ...),\n",
      "                   n_jobs=-1,\n",
      "                   param_distributions={'colsample_bytree': [0.6, 0.8, 1.0],\n",
      "                                        'gamma': [0, 0.1, 0.2],\n",
      "                                        'learning_rate': [0.01, 0.1, 0.5],\n",
      "                                        'max_depth': [3, 6, 9],\n",
      "                                        'n_estimators': [50, 100, 200],\n",
      "                                        'reg_alpha': [0, 0.1, 0.5],\n",
      "                                        'reg_lambda': [0, 0.1, 0.5],\n",
      "                                        'subsample': [0.6, 0.8, 1.0]},\n",
      "                   scoring='neg_mean_squared_error'), 'variables': ['DlyPrc', 'DlyCap', 'DlyOrdDivAmt', 'DlyVol', 'DlyClose', 'DlyLow', 'DlyHigh', 'DlyOpen', 'DlyPrcVol', 'ShrOut', 'ps', 'pcf', 'npm', 'gpm', 'capital_ratio', 'de_ratio', 'at_turn', 'MACD', 'RSI']}\n",
      "alpha estimation method: GridSearchCV\n",
      "       out of sample period, start date: 2002-04-30 00:00:00 end date = 2002-05-29 00:00:00\n",
      "step6: make prediction for out of sample\n"
     ]
    },
    {
     "name": "stderr",
     "output_type": "stream",
     "text": [
      " 34%|███▍      | 16/47 [1:08:42<2:06:02, 243.95s/it]"
     ]
    },
    {
     "name": "stdout",
     "output_type": "stream",
     "text": [
      "step7: calculate return\n",
      "dict_keys(['GridSearchCV'])\n",
      "for date: 2002-05-31 00:00:00\n",
      "       insample period, start date: 2000-05-31 00:00:00 end date = 2002-05-24 00:00:00\n",
      "{'model': RandomizedSearchCV(cv=5,\n",
      "                   estimator=XGBRegressor(base_score=None, booster=None,\n",
      "                                          callbacks=None,\n",
      "                                          colsample_bylevel=None,\n",
      "                                          colsample_bynode=None,\n",
      "                                          colsample_bytree=None,\n",
      "                                          early_stopping_rounds=None,\n",
      "                                          enable_categorical=False,\n",
      "                                          eval_metric=None, feature_types=None,\n",
      "                                          gamma=None, gpu_id=None,\n",
      "                                          grow_policy=None,\n",
      "                                          importance_type=None,\n",
      "                                          interaction_constraints=None,\n",
      "                                          learning_rate=...\n",
      "                                          n_estimators=100, n_jobs=None,\n",
      "                                          num_parallel_tree=None,\n",
      "                                          predictor=None, random_state=None, ...),\n",
      "                   n_jobs=-1,\n",
      "                   param_distributions={'colsample_bytree': [0.6, 0.8, 1.0],\n",
      "                                        'gamma': [0, 0.1, 0.2],\n",
      "                                        'learning_rate': [0.01, 0.1, 0.5],\n",
      "                                        'max_depth': [3, 6, 9],\n",
      "                                        'n_estimators': [50, 100, 200],\n",
      "                                        'reg_alpha': [0, 0.1, 0.5],\n",
      "                                        'reg_lambda': [0, 0.1, 0.5],\n",
      "                                        'subsample': [0.6, 0.8, 1.0]},\n",
      "                   scoring='neg_mean_squared_error'), 'variables': ['DlyPrc', 'DlyCap', 'DlyOrdDivAmt', 'DlyVol', 'DlyClose', 'DlyLow', 'DlyHigh', 'DlyOpen', 'DlyPrcVol', 'ShrOut', 'ps', 'pcf', 'npm', 'gpm', 'capital_ratio', 'de_ratio', 'at_turn', 'MACD', 'RSI']}\n",
      "alpha estimation method: GridSearchCV\n",
      "       out of sample period, start date: 2002-05-31 00:00:00 end date = 2002-06-28 00:00:00\n",
      "step6: make prediction for out of sample\n"
     ]
    },
    {
     "name": "stderr",
     "output_type": "stream",
     "text": [
      " 36%|███▌      | 17/47 [1:11:57<1:54:32, 229.08s/it]"
     ]
    },
    {
     "name": "stdout",
     "output_type": "stream",
     "text": [
      "step7: calculate return\n",
      "dict_keys(['GridSearchCV'])\n",
      "for date: 2002-06-30 00:00:00\n",
      "       insample period, start date: 2000-06-30 00:00:00 end date = 2002-06-24 00:00:00\n",
      "{'model': RandomizedSearchCV(cv=5,\n",
      "                   estimator=XGBRegressor(base_score=None, booster=None,\n",
      "                                          callbacks=None,\n",
      "                                          colsample_bylevel=None,\n",
      "                                          colsample_bynode=None,\n",
      "                                          colsample_bytree=None,\n",
      "                                          early_stopping_rounds=None,\n",
      "                                          enable_categorical=False,\n",
      "                                          eval_metric=None, feature_types=None,\n",
      "                                          gamma=None, gpu_id=None,\n",
      "                                          grow_policy=None,\n",
      "                                          importance_type=None,\n",
      "                                          interaction_constraints=None,\n",
      "                                          learning_rate=...\n",
      "                                          n_estimators=100, n_jobs=None,\n",
      "                                          num_parallel_tree=None,\n",
      "                                          predictor=None, random_state=None, ...),\n",
      "                   n_jobs=-1,\n",
      "                   param_distributions={'colsample_bytree': [0.6, 0.8, 1.0],\n",
      "                                        'gamma': [0, 0.1, 0.2],\n",
      "                                        'learning_rate': [0.01, 0.1, 0.5],\n",
      "                                        'max_depth': [3, 6, 9],\n",
      "                                        'n_estimators': [50, 100, 200],\n",
      "                                        'reg_alpha': [0, 0.1, 0.5],\n",
      "                                        'reg_lambda': [0, 0.1, 0.5],\n",
      "                                        'subsample': [0.6, 0.8, 1.0]},\n",
      "                   scoring='neg_mean_squared_error'), 'variables': ['DlyPrc', 'DlyCap', 'DlyOrdDivAmt', 'DlyVol', 'DlyClose', 'DlyLow', 'DlyHigh', 'DlyOpen', 'DlyPrcVol', 'ShrOut', 'ps', 'pcf', 'npm', 'gpm', 'capital_ratio', 'de_ratio', 'at_turn', 'MACD', 'RSI']}\n",
      "alpha estimation method: GridSearchCV\n",
      "       out of sample period, start date: 2002-07-01 00:00:00 end date = 2002-07-29 00:00:00\n",
      "step6: make prediction for out of sample\n"
     ]
    },
    {
     "name": "stderr",
     "output_type": "stream",
     "text": [
      " 38%|███▊      | 18/47 [1:16:22<1:55:55, 239.84s/it]"
     ]
    },
    {
     "name": "stdout",
     "output_type": "stream",
     "text": [
      "step7: calculate return\n",
      "dict_keys(['GridSearchCV'])\n",
      "for date: 2002-07-31 00:00:00\n",
      "       insample period, start date: 2000-07-31 00:00:00 end date = 2002-07-25 00:00:00\n",
      "{'model': RandomizedSearchCV(cv=5,\n",
      "                   estimator=XGBRegressor(base_score=None, booster=None,\n",
      "                                          callbacks=None,\n",
      "                                          colsample_bylevel=None,\n",
      "                                          colsample_bynode=None,\n",
      "                                          colsample_bytree=None,\n",
      "                                          early_stopping_rounds=None,\n",
      "                                          enable_categorical=False,\n",
      "                                          eval_metric=None, feature_types=None,\n",
      "                                          gamma=None, gpu_id=None,\n",
      "                                          grow_policy=None,\n",
      "                                          importance_type=None,\n",
      "                                          interaction_constraints=None,\n",
      "                                          learning_rate=...\n",
      "                                          n_estimators=100, n_jobs=None,\n",
      "                                          num_parallel_tree=None,\n",
      "                                          predictor=None, random_state=None, ...),\n",
      "                   n_jobs=-1,\n",
      "                   param_distributions={'colsample_bytree': [0.6, 0.8, 1.0],\n",
      "                                        'gamma': [0, 0.1, 0.2],\n",
      "                                        'learning_rate': [0.01, 0.1, 0.5],\n",
      "                                        'max_depth': [3, 6, 9],\n",
      "                                        'n_estimators': [50, 100, 200],\n",
      "                                        'reg_alpha': [0, 0.1, 0.5],\n",
      "                                        'reg_lambda': [0, 0.1, 0.5],\n",
      "                                        'subsample': [0.6, 0.8, 1.0]},\n",
      "                   scoring='neg_mean_squared_error'), 'variables': ['DlyPrc', 'DlyCap', 'DlyOrdDivAmt', 'DlyVol', 'DlyClose', 'DlyLow', 'DlyHigh', 'DlyOpen', 'DlyPrcVol', 'ShrOut', 'ps', 'pcf', 'npm', 'gpm', 'capital_ratio', 'de_ratio', 'at_turn', 'MACD', 'RSI']}\n",
      "alpha estimation method: GridSearchCV\n",
      "       out of sample period, start date: 2002-07-31 00:00:00 end date = 2002-08-29 00:00:00\n",
      "step6: make prediction for out of sample\n"
     ]
    },
    {
     "name": "stderr",
     "output_type": "stream",
     "text": [
      " 40%|████      | 19/47 [1:20:41<1:54:34, 245.53s/it]"
     ]
    },
    {
     "name": "stdout",
     "output_type": "stream",
     "text": [
      "step7: calculate return\n",
      "dict_keys(['GridSearchCV'])\n",
      "for date: 2002-08-31 00:00:00\n",
      "       insample period, start date: 2000-08-31 00:00:00 end date = 2002-08-23 00:00:00\n",
      "{'model': RandomizedSearchCV(cv=5,\n",
      "                   estimator=XGBRegressor(base_score=None, booster=None,\n",
      "                                          callbacks=None,\n",
      "                                          colsample_bylevel=None,\n",
      "                                          colsample_bynode=None,\n",
      "                                          colsample_bytree=None,\n",
      "                                          early_stopping_rounds=None,\n",
      "                                          enable_categorical=False,\n",
      "                                          eval_metric=None, feature_types=None,\n",
      "                                          gamma=None, gpu_id=None,\n",
      "                                          grow_policy=None,\n",
      "                                          importance_type=None,\n",
      "                                          interaction_constraints=None,\n",
      "                                          learning_rate=...\n",
      "                                          n_estimators=100, n_jobs=None,\n",
      "                                          num_parallel_tree=None,\n",
      "                                          predictor=None, random_state=None, ...),\n",
      "                   n_jobs=-1,\n",
      "                   param_distributions={'colsample_bytree': [0.6, 0.8, 1.0],\n",
      "                                        'gamma': [0, 0.1, 0.2],\n",
      "                                        'learning_rate': [0.01, 0.1, 0.5],\n",
      "                                        'max_depth': [3, 6, 9],\n",
      "                                        'n_estimators': [50, 100, 200],\n",
      "                                        'reg_alpha': [0, 0.1, 0.5],\n",
      "                                        'reg_lambda': [0, 0.1, 0.5],\n",
      "                                        'subsample': [0.6, 0.8, 1.0]},\n",
      "                   scoring='neg_mean_squared_error'), 'variables': ['DlyPrc', 'DlyCap', 'DlyOrdDivAmt', 'DlyVol', 'DlyClose', 'DlyLow', 'DlyHigh', 'DlyOpen', 'DlyPrcVol', 'ShrOut', 'ps', 'pcf', 'npm', 'gpm', 'capital_ratio', 'de_ratio', 'at_turn', 'MACD', 'RSI']}\n",
      "alpha estimation method: GridSearchCV\n",
      "       out of sample period, start date: 2002-09-03 00:00:00 end date = 2002-09-27 00:00:00\n",
      "step6: make prediction for out of sample\n"
     ]
    },
    {
     "name": "stderr",
     "output_type": "stream",
     "text": [
      " 43%|████▎     | 20/47 [1:26:25<2:03:52, 275.29s/it]"
     ]
    },
    {
     "name": "stdout",
     "output_type": "stream",
     "text": [
      "step7: calculate return\n",
      "dict_keys(['GridSearchCV'])\n",
      "for date: 2002-09-30 00:00:00\n",
      "       insample period, start date: 2000-10-02 00:00:00 end date = 2002-09-24 00:00:00\n",
      "{'model': RandomizedSearchCV(cv=5,\n",
      "                   estimator=XGBRegressor(base_score=None, booster=None,\n",
      "                                          callbacks=None,\n",
      "                                          colsample_bylevel=None,\n",
      "                                          colsample_bynode=None,\n",
      "                                          colsample_bytree=None,\n",
      "                                          early_stopping_rounds=None,\n",
      "                                          enable_categorical=False,\n",
      "                                          eval_metric=None, feature_types=None,\n",
      "                                          gamma=None, gpu_id=None,\n",
      "                                          grow_policy=None,\n",
      "                                          importance_type=None,\n",
      "                                          interaction_constraints=None,\n",
      "                                          learning_rate=...\n",
      "                                          n_estimators=100, n_jobs=None,\n",
      "                                          num_parallel_tree=None,\n",
      "                                          predictor=None, random_state=None, ...),\n",
      "                   n_jobs=-1,\n",
      "                   param_distributions={'colsample_bytree': [0.6, 0.8, 1.0],\n",
      "                                        'gamma': [0, 0.1, 0.2],\n",
      "                                        'learning_rate': [0.01, 0.1, 0.5],\n",
      "                                        'max_depth': [3, 6, 9],\n",
      "                                        'n_estimators': [50, 100, 200],\n",
      "                                        'reg_alpha': [0, 0.1, 0.5],\n",
      "                                        'reg_lambda': [0, 0.1, 0.5],\n",
      "                                        'subsample': [0.6, 0.8, 1.0]},\n",
      "                   scoring='neg_mean_squared_error'), 'variables': ['DlyPrc', 'DlyCap', 'DlyOrdDivAmt', 'DlyVol', 'DlyClose', 'DlyLow', 'DlyHigh', 'DlyOpen', 'DlyPrcVol', 'ShrOut', 'ps', 'pcf', 'npm', 'gpm', 'capital_ratio', 'de_ratio', 'at_turn', 'MACD', 'RSI']}\n",
      "alpha estimation method: GridSearchCV\n",
      "       out of sample period, start date: 2002-09-30 00:00:00 end date = 2002-10-29 00:00:00\n",
      "step6: make prediction for out of sample\n"
     ]
    },
    {
     "name": "stderr",
     "output_type": "stream",
     "text": [
      " 45%|████▍     | 21/47 [1:31:17<2:01:24, 280.17s/it]"
     ]
    },
    {
     "name": "stdout",
     "output_type": "stream",
     "text": [
      "step7: calculate return\n",
      "dict_keys(['GridSearchCV'])\n",
      "for date: 2002-10-31 00:00:00\n",
      "       insample period, start date: 2000-10-31 00:00:00 end date = 2002-10-25 00:00:00\n",
      "{'model': RandomizedSearchCV(cv=5,\n",
      "                   estimator=XGBRegressor(base_score=None, booster=None,\n",
      "                                          callbacks=None,\n",
      "                                          colsample_bylevel=None,\n",
      "                                          colsample_bynode=None,\n",
      "                                          colsample_bytree=None,\n",
      "                                          early_stopping_rounds=None,\n",
      "                                          enable_categorical=False,\n",
      "                                          eval_metric=None, feature_types=None,\n",
      "                                          gamma=None, gpu_id=None,\n",
      "                                          grow_policy=None,\n",
      "                                          importance_type=None,\n",
      "                                          interaction_constraints=None,\n",
      "                                          learning_rate=...\n",
      "                                          n_estimators=100, n_jobs=None,\n",
      "                                          num_parallel_tree=None,\n",
      "                                          predictor=None, random_state=None, ...),\n",
      "                   n_jobs=-1,\n",
      "                   param_distributions={'colsample_bytree': [0.6, 0.8, 1.0],\n",
      "                                        'gamma': [0, 0.1, 0.2],\n",
      "                                        'learning_rate': [0.01, 0.1, 0.5],\n",
      "                                        'max_depth': [3, 6, 9],\n",
      "                                        'n_estimators': [50, 100, 200],\n",
      "                                        'reg_alpha': [0, 0.1, 0.5],\n",
      "                                        'reg_lambda': [0, 0.1, 0.5],\n",
      "                                        'subsample': [0.6, 0.8, 1.0]},\n",
      "                   scoring='neg_mean_squared_error'), 'variables': ['DlyPrc', 'DlyCap', 'DlyOrdDivAmt', 'DlyVol', 'DlyClose', 'DlyLow', 'DlyHigh', 'DlyOpen', 'DlyPrcVol', 'ShrOut', 'ps', 'pcf', 'npm', 'gpm', 'capital_ratio', 'de_ratio', 'at_turn', 'MACD', 'RSI']}\n",
      "alpha estimation method: GridSearchCV\n",
      "       out of sample period, start date: 2002-10-31 00:00:00 end date = 2002-11-29 00:00:00\n",
      "step6: make prediction for out of sample\n"
     ]
    },
    {
     "name": "stderr",
     "output_type": "stream",
     "text": [
      " 47%|████▋     | 22/47 [1:35:09<1:50:44, 265.76s/it]"
     ]
    },
    {
     "name": "stdout",
     "output_type": "stream",
     "text": [
      "step7: calculate return\n",
      "dict_keys(['GridSearchCV'])\n",
      "for date: 2002-11-30 00:00:00\n",
      "       insample period, start date: 2000-11-30 00:00:00 end date = 2002-11-22 00:00:00\n",
      "{'model': RandomizedSearchCV(cv=5,\n",
      "                   estimator=XGBRegressor(base_score=None, booster=None,\n",
      "                                          callbacks=None,\n",
      "                                          colsample_bylevel=None,\n",
      "                                          colsample_bynode=None,\n",
      "                                          colsample_bytree=None,\n",
      "                                          early_stopping_rounds=None,\n",
      "                                          enable_categorical=False,\n",
      "                                          eval_metric=None, feature_types=None,\n",
      "                                          gamma=None, gpu_id=None,\n",
      "                                          grow_policy=None,\n",
      "                                          importance_type=None,\n",
      "                                          interaction_constraints=None,\n",
      "                                          learning_rate=...\n",
      "                                          n_estimators=100, n_jobs=None,\n",
      "                                          num_parallel_tree=None,\n",
      "                                          predictor=None, random_state=None, ...),\n",
      "                   n_jobs=-1,\n",
      "                   param_distributions={'colsample_bytree': [0.6, 0.8, 1.0],\n",
      "                                        'gamma': [0, 0.1, 0.2],\n",
      "                                        'learning_rate': [0.01, 0.1, 0.5],\n",
      "                                        'max_depth': [3, 6, 9],\n",
      "                                        'n_estimators': [50, 100, 200],\n",
      "                                        'reg_alpha': [0, 0.1, 0.5],\n",
      "                                        'reg_lambda': [0, 0.1, 0.5],\n",
      "                                        'subsample': [0.6, 0.8, 1.0]},\n",
      "                   scoring='neg_mean_squared_error'), 'variables': ['DlyPrc', 'DlyCap', 'DlyOrdDivAmt', 'DlyVol', 'DlyClose', 'DlyLow', 'DlyHigh', 'DlyOpen', 'DlyPrcVol', 'ShrOut', 'ps', 'pcf', 'npm', 'gpm', 'capital_ratio', 'de_ratio', 'at_turn', 'MACD', 'RSI']}\n",
      "alpha estimation method: GridSearchCV\n",
      "       out of sample period, start date: 2002-12-02 00:00:00 end date = 2002-12-27 00:00:00\n",
      "step6: make prediction for out of sample\n"
     ]
    },
    {
     "name": "stderr",
     "output_type": "stream",
     "text": [
      " 49%|████▉     | 23/47 [1:39:44<1:47:28, 268.67s/it]"
     ]
    },
    {
     "name": "stdout",
     "output_type": "stream",
     "text": [
      "step7: calculate return\n",
      "dict_keys(['GridSearchCV'])\n",
      "for date: 2002-12-31 00:00:00\n",
      "       insample period, start date: 2001-01-02 00:00:00 end date = 2002-12-24 00:00:00\n",
      "{'model': RandomizedSearchCV(cv=5,\n",
      "                   estimator=XGBRegressor(base_score=None, booster=None,\n",
      "                                          callbacks=None,\n",
      "                                          colsample_bylevel=None,\n",
      "                                          colsample_bynode=None,\n",
      "                                          colsample_bytree=None,\n",
      "                                          early_stopping_rounds=None,\n",
      "                                          enable_categorical=False,\n",
      "                                          eval_metric=None, feature_types=None,\n",
      "                                          gamma=None, gpu_id=None,\n",
      "                                          grow_policy=None,\n",
      "                                          importance_type=None,\n",
      "                                          interaction_constraints=None,\n",
      "                                          learning_rate=...\n",
      "                                          n_estimators=100, n_jobs=None,\n",
      "                                          num_parallel_tree=None,\n",
      "                                          predictor=None, random_state=None, ...),\n",
      "                   n_jobs=-1,\n",
      "                   param_distributions={'colsample_bytree': [0.6, 0.8, 1.0],\n",
      "                                        'gamma': [0, 0.1, 0.2],\n",
      "                                        'learning_rate': [0.01, 0.1, 0.5],\n",
      "                                        'max_depth': [3, 6, 9],\n",
      "                                        'n_estimators': [50, 100, 200],\n",
      "                                        'reg_alpha': [0, 0.1, 0.5],\n",
      "                                        'reg_lambda': [0, 0.1, 0.5],\n",
      "                                        'subsample': [0.6, 0.8, 1.0]},\n",
      "                   scoring='neg_mean_squared_error'), 'variables': ['DlyPrc', 'DlyCap', 'DlyOrdDivAmt', 'DlyVol', 'DlyClose', 'DlyLow', 'DlyHigh', 'DlyOpen', 'DlyPrcVol', 'ShrOut', 'ps', 'pcf', 'npm', 'gpm', 'capital_ratio', 'de_ratio', 'at_turn', 'MACD', 'RSI']}\n",
      "alpha estimation method: GridSearchCV\n",
      "       out of sample period, start date: 2002-12-31 00:00:00 end date = 2003-01-29 00:00:00\n",
      "step6: make prediction for out of sample\n"
     ]
    },
    {
     "name": "stderr",
     "output_type": "stream",
     "text": [
      " 51%|█████     | 24/47 [1:44:01<1:41:35, 265.03s/it]"
     ]
    },
    {
     "name": "stdout",
     "output_type": "stream",
     "text": [
      "step7: calculate return\n",
      "dict_keys(['GridSearchCV'])\n",
      "for date: 2003-01-31 00:00:00\n",
      "       insample period, start date: 2001-01-31 00:00:00 end date = 2003-01-24 00:00:00\n",
      "{'model': RandomizedSearchCV(cv=5,\n",
      "                   estimator=XGBRegressor(base_score=None, booster=None,\n",
      "                                          callbacks=None,\n",
      "                                          colsample_bylevel=None,\n",
      "                                          colsample_bynode=None,\n",
      "                                          colsample_bytree=None,\n",
      "                                          early_stopping_rounds=None,\n",
      "                                          enable_categorical=False,\n",
      "                                          eval_metric=None, feature_types=None,\n",
      "                                          gamma=None, gpu_id=None,\n",
      "                                          grow_policy=None,\n",
      "                                          importance_type=None,\n",
      "                                          interaction_constraints=None,\n",
      "                                          learning_rate=...\n",
      "                                          n_estimators=100, n_jobs=None,\n",
      "                                          num_parallel_tree=None,\n",
      "                                          predictor=None, random_state=None, ...),\n",
      "                   n_jobs=-1,\n",
      "                   param_distributions={'colsample_bytree': [0.6, 0.8, 1.0],\n",
      "                                        'gamma': [0, 0.1, 0.2],\n",
      "                                        'learning_rate': [0.01, 0.1, 0.5],\n",
      "                                        'max_depth': [3, 6, 9],\n",
      "                                        'n_estimators': [50, 100, 200],\n",
      "                                        'reg_alpha': [0, 0.1, 0.5],\n",
      "                                        'reg_lambda': [0, 0.1, 0.5],\n",
      "                                        'subsample': [0.6, 0.8, 1.0]},\n",
      "                   scoring='neg_mean_squared_error'), 'variables': ['DlyPrc', 'DlyCap', 'DlyOrdDivAmt', 'DlyVol', 'DlyClose', 'DlyLow', 'DlyHigh', 'DlyOpen', 'DlyPrcVol', 'ShrOut', 'ps', 'pcf', 'npm', 'gpm', 'capital_ratio', 'de_ratio', 'at_turn', 'MACD', 'RSI']}\n",
      "alpha estimation method: GridSearchCV\n",
      "       out of sample period, start date: 2003-01-31 00:00:00 end date = 2003-02-28 00:00:00\n",
      "step6: make prediction for out of sample\n"
     ]
    },
    {
     "name": "stderr",
     "output_type": "stream",
     "text": [
      " 53%|█████▎    | 25/47 [1:47:56<1:33:50, 255.94s/it]"
     ]
    },
    {
     "name": "stdout",
     "output_type": "stream",
     "text": [
      "step7: calculate return\n",
      "dict_keys(['GridSearchCV'])\n",
      "for date: 2003-02-28 00:00:00\n",
      "       insample period, start date: 2001-02-28 00:00:00 end date = 2003-02-21 00:00:00\n",
      "{'model': RandomizedSearchCV(cv=5,\n",
      "                   estimator=XGBRegressor(base_score=None, booster=None,\n",
      "                                          callbacks=None,\n",
      "                                          colsample_bylevel=None,\n",
      "                                          colsample_bynode=None,\n",
      "                                          colsample_bytree=None,\n",
      "                                          early_stopping_rounds=None,\n",
      "                                          enable_categorical=False,\n",
      "                                          eval_metric=None, feature_types=None,\n",
      "                                          gamma=None, gpu_id=None,\n",
      "                                          grow_policy=None,\n",
      "                                          importance_type=None,\n",
      "                                          interaction_constraints=None,\n",
      "                                          learning_rate=...\n",
      "                                          n_estimators=100, n_jobs=None,\n",
      "                                          num_parallel_tree=None,\n",
      "                                          predictor=None, random_state=None, ...),\n",
      "                   n_jobs=-1,\n",
      "                   param_distributions={'colsample_bytree': [0.6, 0.8, 1.0],\n",
      "                                        'gamma': [0, 0.1, 0.2],\n",
      "                                        'learning_rate': [0.01, 0.1, 0.5],\n",
      "                                        'max_depth': [3, 6, 9],\n",
      "                                        'n_estimators': [50, 100, 200],\n",
      "                                        'reg_alpha': [0, 0.1, 0.5],\n",
      "                                        'reg_lambda': [0, 0.1, 0.5],\n",
      "                                        'subsample': [0.6, 0.8, 1.0]},\n",
      "                   scoring='neg_mean_squared_error'), 'variables': ['DlyPrc', 'DlyCap', 'DlyOrdDivAmt', 'DlyVol', 'DlyClose', 'DlyLow', 'DlyHigh', 'DlyOpen', 'DlyPrcVol', 'ShrOut', 'ps', 'pcf', 'npm', 'gpm', 'capital_ratio', 'de_ratio', 'at_turn', 'MACD', 'RSI']}\n",
      "alpha estimation method: GridSearchCV\n",
      "       out of sample period, start date: 2003-02-28 00:00:00 end date = 2003-03-28 00:00:00\n",
      "step6: make prediction for out of sample\n"
     ]
    },
    {
     "name": "stderr",
     "output_type": "stream",
     "text": [
      " 55%|█████▌    | 26/47 [1:52:17<1:30:09, 257.60s/it]"
     ]
    },
    {
     "name": "stdout",
     "output_type": "stream",
     "text": [
      "step7: calculate return\n",
      "dict_keys(['GridSearchCV'])\n",
      "for date: 2003-03-31 00:00:00\n",
      "       insample period, start date: 2001-04-02 00:00:00 end date = 2003-03-25 00:00:00\n",
      "{'model': RandomizedSearchCV(cv=5,\n",
      "                   estimator=XGBRegressor(base_score=None, booster=None,\n",
      "                                          callbacks=None,\n",
      "                                          colsample_bylevel=None,\n",
      "                                          colsample_bynode=None,\n",
      "                                          colsample_bytree=None,\n",
      "                                          early_stopping_rounds=None,\n",
      "                                          enable_categorical=False,\n",
      "                                          eval_metric=None, feature_types=None,\n",
      "                                          gamma=None, gpu_id=None,\n",
      "                                          grow_policy=None,\n",
      "                                          importance_type=None,\n",
      "                                          interaction_constraints=None,\n",
      "                                          learning_rate=...\n",
      "                                          n_estimators=100, n_jobs=None,\n",
      "                                          num_parallel_tree=None,\n",
      "                                          predictor=None, random_state=None, ...),\n",
      "                   n_jobs=-1,\n",
      "                   param_distributions={'colsample_bytree': [0.6, 0.8, 1.0],\n",
      "                                        'gamma': [0, 0.1, 0.2],\n",
      "                                        'learning_rate': [0.01, 0.1, 0.5],\n",
      "                                        'max_depth': [3, 6, 9],\n",
      "                                        'n_estimators': [50, 100, 200],\n",
      "                                        'reg_alpha': [0, 0.1, 0.5],\n",
      "                                        'reg_lambda': [0, 0.1, 0.5],\n",
      "                                        'subsample': [0.6, 0.8, 1.0]},\n",
      "                   scoring='neg_mean_squared_error'), 'variables': ['DlyPrc', 'DlyCap', 'DlyOrdDivAmt', 'DlyVol', 'DlyClose', 'DlyLow', 'DlyHigh', 'DlyOpen', 'DlyPrcVol', 'ShrOut', 'ps', 'pcf', 'npm', 'gpm', 'capital_ratio', 'de_ratio', 'at_turn', 'MACD', 'RSI']}\n",
      "alpha estimation method: GridSearchCV\n",
      "       out of sample period, start date: 2003-03-31 00:00:00 end date = 2003-04-29 00:00:00\n",
      "step6: make prediction for out of sample\n"
     ]
    },
    {
     "name": "stderr",
     "output_type": "stream",
     "text": [
      " 57%|█████▋    | 27/47 [1:59:09<1:41:16, 303.81s/it]"
     ]
    },
    {
     "name": "stdout",
     "output_type": "stream",
     "text": [
      "step7: calculate return\n",
      "dict_keys(['GridSearchCV'])\n",
      "for date: 2003-04-30 00:00:00\n",
      "       insample period, start date: 2001-04-30 00:00:00 end date = 2003-04-24 00:00:00\n",
      "{'model': RandomizedSearchCV(cv=5,\n",
      "                   estimator=XGBRegressor(base_score=None, booster=None,\n",
      "                                          callbacks=None,\n",
      "                                          colsample_bylevel=None,\n",
      "                                          colsample_bynode=None,\n",
      "                                          colsample_bytree=None,\n",
      "                                          early_stopping_rounds=None,\n",
      "                                          enable_categorical=False,\n",
      "                                          eval_metric=None, feature_types=None,\n",
      "                                          gamma=None, gpu_id=None,\n",
      "                                          grow_policy=None,\n",
      "                                          importance_type=None,\n",
      "                                          interaction_constraints=None,\n",
      "                                          learning_rate=...\n",
      "                                          n_estimators=100, n_jobs=None,\n",
      "                                          num_parallel_tree=None,\n",
      "                                          predictor=None, random_state=None, ...),\n",
      "                   n_jobs=-1,\n",
      "                   param_distributions={'colsample_bytree': [0.6, 0.8, 1.0],\n",
      "                                        'gamma': [0, 0.1, 0.2],\n",
      "                                        'learning_rate': [0.01, 0.1, 0.5],\n",
      "                                        'max_depth': [3, 6, 9],\n",
      "                                        'n_estimators': [50, 100, 200],\n",
      "                                        'reg_alpha': [0, 0.1, 0.5],\n",
      "                                        'reg_lambda': [0, 0.1, 0.5],\n",
      "                                        'subsample': [0.6, 0.8, 1.0]},\n",
      "                   scoring='neg_mean_squared_error'), 'variables': ['DlyPrc', 'DlyCap', 'DlyOrdDivAmt', 'DlyVol', 'DlyClose', 'DlyLow', 'DlyHigh', 'DlyOpen', 'DlyPrcVol', 'ShrOut', 'ps', 'pcf', 'npm', 'gpm', 'capital_ratio', 'de_ratio', 'at_turn', 'MACD', 'RSI']}\n",
      "alpha estimation method: GridSearchCV\n",
      "       out of sample period, start date: 2003-04-30 00:00:00 end date = 2003-05-29 00:00:00\n",
      "step6: make prediction for out of sample\n"
     ]
    },
    {
     "name": "stderr",
     "output_type": "stream",
     "text": [
      " 60%|█████▉    | 28/47 [2:05:01<1:40:46, 318.24s/it]"
     ]
    },
    {
     "name": "stdout",
     "output_type": "stream",
     "text": [
      "step7: calculate return\n",
      "dict_keys(['GridSearchCV'])\n",
      "for date: 2003-05-31 00:00:00\n",
      "       insample period, start date: 2001-05-31 00:00:00 end date = 2003-05-23 00:00:00\n",
      "{'model': RandomizedSearchCV(cv=5,\n",
      "                   estimator=XGBRegressor(base_score=None, booster=None,\n",
      "                                          callbacks=None,\n",
      "                                          colsample_bylevel=None,\n",
      "                                          colsample_bynode=None,\n",
      "                                          colsample_bytree=None,\n",
      "                                          early_stopping_rounds=None,\n",
      "                                          enable_categorical=False,\n",
      "                                          eval_metric=None, feature_types=None,\n",
      "                                          gamma=None, gpu_id=None,\n",
      "                                          grow_policy=None,\n",
      "                                          importance_type=None,\n",
      "                                          interaction_constraints=None,\n",
      "                                          learning_rate=...\n",
      "                                          n_estimators=100, n_jobs=None,\n",
      "                                          num_parallel_tree=None,\n",
      "                                          predictor=None, random_state=None, ...),\n",
      "                   n_jobs=-1,\n",
      "                   param_distributions={'colsample_bytree': [0.6, 0.8, 1.0],\n",
      "                                        'gamma': [0, 0.1, 0.2],\n",
      "                                        'learning_rate': [0.01, 0.1, 0.5],\n",
      "                                        'max_depth': [3, 6, 9],\n",
      "                                        'n_estimators': [50, 100, 200],\n",
      "                                        'reg_alpha': [0, 0.1, 0.5],\n",
      "                                        'reg_lambda': [0, 0.1, 0.5],\n",
      "                                        'subsample': [0.6, 0.8, 1.0]},\n",
      "                   scoring='neg_mean_squared_error'), 'variables': ['DlyPrc', 'DlyCap', 'DlyOrdDivAmt', 'DlyVol', 'DlyClose', 'DlyLow', 'DlyHigh', 'DlyOpen', 'DlyPrcVol', 'ShrOut', 'ps', 'pcf', 'npm', 'gpm', 'capital_ratio', 'de_ratio', 'at_turn', 'MACD', 'RSI']}\n",
      "alpha estimation method: GridSearchCV\n",
      "       out of sample period, start date: 2003-06-02 00:00:00 end date = 2003-06-27 00:00:00\n",
      "step6: make prediction for out of sample\n"
     ]
    },
    {
     "name": "stderr",
     "output_type": "stream",
     "text": [
      " 62%|██████▏   | 29/47 [2:09:52<1:33:04, 310.27s/it]"
     ]
    },
    {
     "name": "stdout",
     "output_type": "stream",
     "text": [
      "step7: calculate return\n",
      "dict_keys(['GridSearchCV'])\n",
      "for date: 2003-06-30 00:00:00\n",
      "       insample period, start date: 2001-07-02 00:00:00 end date = 2003-06-24 00:00:00\n",
      "{'model': RandomizedSearchCV(cv=5,\n",
      "                   estimator=XGBRegressor(base_score=None, booster=None,\n",
      "                                          callbacks=None,\n",
      "                                          colsample_bylevel=None,\n",
      "                                          colsample_bynode=None,\n",
      "                                          colsample_bytree=None,\n",
      "                                          early_stopping_rounds=None,\n",
      "                                          enable_categorical=False,\n",
      "                                          eval_metric=None, feature_types=None,\n",
      "                                          gamma=None, gpu_id=None,\n",
      "                                          grow_policy=None,\n",
      "                                          importance_type=None,\n",
      "                                          interaction_constraints=None,\n",
      "                                          learning_rate=...\n",
      "                                          n_estimators=100, n_jobs=None,\n",
      "                                          num_parallel_tree=None,\n",
      "                                          predictor=None, random_state=None, ...),\n",
      "                   n_jobs=-1,\n",
      "                   param_distributions={'colsample_bytree': [0.6, 0.8, 1.0],\n",
      "                                        'gamma': [0, 0.1, 0.2],\n",
      "                                        'learning_rate': [0.01, 0.1, 0.5],\n",
      "                                        'max_depth': [3, 6, 9],\n",
      "                                        'n_estimators': [50, 100, 200],\n",
      "                                        'reg_alpha': [0, 0.1, 0.5],\n",
      "                                        'reg_lambda': [0, 0.1, 0.5],\n",
      "                                        'subsample': [0.6, 0.8, 1.0]},\n",
      "                   scoring='neg_mean_squared_error'), 'variables': ['DlyPrc', 'DlyCap', 'DlyOrdDivAmt', 'DlyVol', 'DlyClose', 'DlyLow', 'DlyHigh', 'DlyOpen', 'DlyPrcVol', 'ShrOut', 'ps', 'pcf', 'npm', 'gpm', 'capital_ratio', 'de_ratio', 'at_turn', 'MACD', 'RSI']}\n",
      "alpha estimation method: GridSearchCV\n",
      "       out of sample period, start date: 2003-06-30 00:00:00 end date = 2003-07-29 00:00:00\n",
      "step6: make prediction for out of sample\n"
     ]
    },
    {
     "name": "stderr",
     "output_type": "stream",
     "text": [
      " 64%|██████▍   | 30/47 [2:15:57<1:32:30, 326.49s/it]"
     ]
    },
    {
     "name": "stdout",
     "output_type": "stream",
     "text": [
      "step7: calculate return\n",
      "dict_keys(['GridSearchCV'])\n",
      "for date: 2003-07-31 00:00:00\n",
      "       insample period, start date: 2001-07-31 00:00:00 end date = 2003-07-25 00:00:00\n",
      "{'model': RandomizedSearchCV(cv=5,\n",
      "                   estimator=XGBRegressor(base_score=None, booster=None,\n",
      "                                          callbacks=None,\n",
      "                                          colsample_bylevel=None,\n",
      "                                          colsample_bynode=None,\n",
      "                                          colsample_bytree=None,\n",
      "                                          early_stopping_rounds=None,\n",
      "                                          enable_categorical=False,\n",
      "                                          eval_metric=None, feature_types=None,\n",
      "                                          gamma=None, gpu_id=None,\n",
      "                                          grow_policy=None,\n",
      "                                          importance_type=None,\n",
      "                                          interaction_constraints=None,\n",
      "                                          learning_rate=...\n",
      "                                          n_estimators=100, n_jobs=None,\n",
      "                                          num_parallel_tree=None,\n",
      "                                          predictor=None, random_state=None, ...),\n",
      "                   n_jobs=-1,\n",
      "                   param_distributions={'colsample_bytree': [0.6, 0.8, 1.0],\n",
      "                                        'gamma': [0, 0.1, 0.2],\n",
      "                                        'learning_rate': [0.01, 0.1, 0.5],\n",
      "                                        'max_depth': [3, 6, 9],\n",
      "                                        'n_estimators': [50, 100, 200],\n",
      "                                        'reg_alpha': [0, 0.1, 0.5],\n",
      "                                        'reg_lambda': [0, 0.1, 0.5],\n",
      "                                        'subsample': [0.6, 0.8, 1.0]},\n",
      "                   scoring='neg_mean_squared_error'), 'variables': ['DlyPrc', 'DlyCap', 'DlyOrdDivAmt', 'DlyVol', 'DlyClose', 'DlyLow', 'DlyHigh', 'DlyOpen', 'DlyPrcVol', 'ShrOut', 'ps', 'pcf', 'npm', 'gpm', 'capital_ratio', 'de_ratio', 'at_turn', 'MACD', 'RSI']}\n",
      "alpha estimation method: GridSearchCV\n",
      "       out of sample period, start date: 2003-07-31 00:00:00 end date = 2003-08-29 00:00:00\n",
      "step6: make prediction for out of sample\n"
     ]
    },
    {
     "name": "stderr",
     "output_type": "stream",
     "text": [
      " 66%|██████▌   | 31/47 [2:19:45<1:19:12, 297.06s/it]"
     ]
    },
    {
     "name": "stdout",
     "output_type": "stream",
     "text": [
      "step7: calculate return\n",
      "dict_keys(['GridSearchCV'])\n",
      "for date: 2003-08-31 00:00:00\n",
      "       insample period, start date: 2001-08-31 00:00:00 end date = 2003-08-25 00:00:00\n",
      "{'model': RandomizedSearchCV(cv=5,\n",
      "                   estimator=XGBRegressor(base_score=None, booster=None,\n",
      "                                          callbacks=None,\n",
      "                                          colsample_bylevel=None,\n",
      "                                          colsample_bynode=None,\n",
      "                                          colsample_bytree=None,\n",
      "                                          early_stopping_rounds=None,\n",
      "                                          enable_categorical=False,\n",
      "                                          eval_metric=None, feature_types=None,\n",
      "                                          gamma=None, gpu_id=None,\n",
      "                                          grow_policy=None,\n",
      "                                          importance_type=None,\n",
      "                                          interaction_constraints=None,\n",
      "                                          learning_rate=...\n",
      "                                          n_estimators=100, n_jobs=None,\n",
      "                                          num_parallel_tree=None,\n",
      "                                          predictor=None, random_state=None, ...),\n",
      "                   n_jobs=-1,\n",
      "                   param_distributions={'colsample_bytree': [0.6, 0.8, 1.0],\n",
      "                                        'gamma': [0, 0.1, 0.2],\n",
      "                                        'learning_rate': [0.01, 0.1, 0.5],\n",
      "                                        'max_depth': [3, 6, 9],\n",
      "                                        'n_estimators': [50, 100, 200],\n",
      "                                        'reg_alpha': [0, 0.1, 0.5],\n",
      "                                        'reg_lambda': [0, 0.1, 0.5],\n",
      "                                        'subsample': [0.6, 0.8, 1.0]},\n",
      "                   scoring='neg_mean_squared_error'), 'variables': ['DlyPrc', 'DlyCap', 'DlyOrdDivAmt', 'DlyVol', 'DlyClose', 'DlyLow', 'DlyHigh', 'DlyOpen', 'DlyPrcVol', 'ShrOut', 'ps', 'pcf', 'npm', 'gpm', 'capital_ratio', 'de_ratio', 'at_turn', 'MACD', 'RSI']}\n",
      "alpha estimation method: GridSearchCV\n",
      "       out of sample period, start date: 2003-09-02 00:00:00 end date = 2003-09-29 00:00:00\n",
      "step6: make prediction for out of sample\n"
     ]
    },
    {
     "name": "stderr",
     "output_type": "stream",
     "text": [
      " 68%|██████▊   | 32/47 [2:24:12<1:12:01, 288.07s/it]"
     ]
    },
    {
     "name": "stdout",
     "output_type": "stream",
     "text": [
      "step7: calculate return\n",
      "dict_keys(['GridSearchCV'])\n",
      "for date: 2003-09-30 00:00:00\n",
      "       insample period, start date: 2001-10-01 00:00:00 end date = 2003-09-24 00:00:00\n",
      "{'model': RandomizedSearchCV(cv=5,\n",
      "                   estimator=XGBRegressor(base_score=None, booster=None,\n",
      "                                          callbacks=None,\n",
      "                                          colsample_bylevel=None,\n",
      "                                          colsample_bynode=None,\n",
      "                                          colsample_bytree=None,\n",
      "                                          early_stopping_rounds=None,\n",
      "                                          enable_categorical=False,\n",
      "                                          eval_metric=None, feature_types=None,\n",
      "                                          gamma=None, gpu_id=None,\n",
      "                                          grow_policy=None,\n",
      "                                          importance_type=None,\n",
      "                                          interaction_constraints=None,\n",
      "                                          learning_rate=...\n",
      "                                          n_estimators=100, n_jobs=None,\n",
      "                                          num_parallel_tree=None,\n",
      "                                          predictor=None, random_state=None, ...),\n",
      "                   n_jobs=-1,\n",
      "                   param_distributions={'colsample_bytree': [0.6, 0.8, 1.0],\n",
      "                                        'gamma': [0, 0.1, 0.2],\n",
      "                                        'learning_rate': [0.01, 0.1, 0.5],\n",
      "                                        'max_depth': [3, 6, 9],\n",
      "                                        'n_estimators': [50, 100, 200],\n",
      "                                        'reg_alpha': [0, 0.1, 0.5],\n",
      "                                        'reg_lambda': [0, 0.1, 0.5],\n",
      "                                        'subsample': [0.6, 0.8, 1.0]},\n",
      "                   scoring='neg_mean_squared_error'), 'variables': ['DlyPrc', 'DlyCap', 'DlyOrdDivAmt', 'DlyVol', 'DlyClose', 'DlyLow', 'DlyHigh', 'DlyOpen', 'DlyPrcVol', 'ShrOut', 'ps', 'pcf', 'npm', 'gpm', 'capital_ratio', 'de_ratio', 'at_turn', 'MACD', 'RSI']}\n",
      "alpha estimation method: GridSearchCV\n",
      "       out of sample period, start date: 2003-09-30 00:00:00 end date = 2003-10-29 00:00:00\n",
      "step6: make prediction for out of sample\n"
     ]
    },
    {
     "name": "stderr",
     "output_type": "stream",
     "text": [
      " 70%|███████   | 33/47 [2:28:22<1:04:30, 276.48s/it]"
     ]
    },
    {
     "name": "stdout",
     "output_type": "stream",
     "text": [
      "step7: calculate return\n",
      "dict_keys(['GridSearchCV'])\n",
      "for date: 2003-10-31 00:00:00\n",
      "       insample period, start date: 2001-10-31 00:00:00 end date = 2003-10-24 00:00:00\n",
      "{'model': RandomizedSearchCV(cv=5,\n",
      "                   estimator=XGBRegressor(base_score=None, booster=None,\n",
      "                                          callbacks=None,\n",
      "                                          colsample_bylevel=None,\n",
      "                                          colsample_bynode=None,\n",
      "                                          colsample_bytree=None,\n",
      "                                          early_stopping_rounds=None,\n",
      "                                          enable_categorical=False,\n",
      "                                          eval_metric=None, feature_types=None,\n",
      "                                          gamma=None, gpu_id=None,\n",
      "                                          grow_policy=None,\n",
      "                                          importance_type=None,\n",
      "                                          interaction_constraints=None,\n",
      "                                          learning_rate=...\n",
      "                                          n_estimators=100, n_jobs=None,\n",
      "                                          num_parallel_tree=None,\n",
      "                                          predictor=None, random_state=None, ...),\n",
      "                   n_jobs=-1,\n",
      "                   param_distributions={'colsample_bytree': [0.6, 0.8, 1.0],\n",
      "                                        'gamma': [0, 0.1, 0.2],\n",
      "                                        'learning_rate': [0.01, 0.1, 0.5],\n",
      "                                        'max_depth': [3, 6, 9],\n",
      "                                        'n_estimators': [50, 100, 200],\n",
      "                                        'reg_alpha': [0, 0.1, 0.5],\n",
      "                                        'reg_lambda': [0, 0.1, 0.5],\n",
      "                                        'subsample': [0.6, 0.8, 1.0]},\n",
      "                   scoring='neg_mean_squared_error'), 'variables': ['DlyPrc', 'DlyCap', 'DlyOrdDivAmt', 'DlyVol', 'DlyClose', 'DlyLow', 'DlyHigh', 'DlyOpen', 'DlyPrcVol', 'ShrOut', 'ps', 'pcf', 'npm', 'gpm', 'capital_ratio', 'de_ratio', 'at_turn', 'MACD', 'RSI']}\n",
      "alpha estimation method: GridSearchCV\n",
      "       out of sample period, start date: 2003-10-31 00:00:00 end date = 2003-11-28 00:00:00\n",
      "step6: make prediction for out of sample\n"
     ]
    },
    {
     "name": "stderr",
     "output_type": "stream",
     "text": [
      " 72%|███████▏  | 34/47 [2:31:21<53:33, 247.19s/it]  "
     ]
    },
    {
     "name": "stdout",
     "output_type": "stream",
     "text": [
      "step7: calculate return\n",
      "dict_keys(['GridSearchCV'])\n",
      "for date: 2003-11-30 00:00:00\n",
      "       insample period, start date: 2001-11-30 00:00:00 end date = 2003-11-24 00:00:00\n",
      "{'model': RandomizedSearchCV(cv=5,\n",
      "                   estimator=XGBRegressor(base_score=None, booster=None,\n",
      "                                          callbacks=None,\n",
      "                                          colsample_bylevel=None,\n",
      "                                          colsample_bynode=None,\n",
      "                                          colsample_bytree=None,\n",
      "                                          early_stopping_rounds=None,\n",
      "                                          enable_categorical=False,\n",
      "                                          eval_metric=None, feature_types=None,\n",
      "                                          gamma=None, gpu_id=None,\n",
      "                                          grow_policy=None,\n",
      "                                          importance_type=None,\n",
      "                                          interaction_constraints=None,\n",
      "                                          learning_rate=...\n",
      "                                          n_estimators=100, n_jobs=None,\n",
      "                                          num_parallel_tree=None,\n",
      "                                          predictor=None, random_state=None, ...),\n",
      "                   n_jobs=-1,\n",
      "                   param_distributions={'colsample_bytree': [0.6, 0.8, 1.0],\n",
      "                                        'gamma': [0, 0.1, 0.2],\n",
      "                                        'learning_rate': [0.01, 0.1, 0.5],\n",
      "                                        'max_depth': [3, 6, 9],\n",
      "                                        'n_estimators': [50, 100, 200],\n",
      "                                        'reg_alpha': [0, 0.1, 0.5],\n",
      "                                        'reg_lambda': [0, 0.1, 0.5],\n",
      "                                        'subsample': [0.6, 0.8, 1.0]},\n",
      "                   scoring='neg_mean_squared_error'), 'variables': ['DlyPrc', 'DlyCap', 'DlyOrdDivAmt', 'DlyVol', 'DlyClose', 'DlyLow', 'DlyHigh', 'DlyOpen', 'DlyPrcVol', 'ShrOut', 'ps', 'pcf', 'npm', 'gpm', 'capital_ratio', 'de_ratio', 'at_turn', 'MACD', 'RSI']}\n",
      "alpha estimation method: GridSearchCV\n",
      "       out of sample period, start date: 2003-12-01 00:00:00 end date = 2003-12-29 00:00:00\n",
      "step6: make prediction for out of sample\n"
     ]
    },
    {
     "name": "stderr",
     "output_type": "stream",
     "text": [
      " 74%|███████▍  | 35/47 [2:35:18<48:52, 244.35s/it]"
     ]
    },
    {
     "name": "stdout",
     "output_type": "stream",
     "text": [
      "step7: calculate return\n",
      "dict_keys(['GridSearchCV'])\n",
      "for date: 2003-12-31 00:00:00\n",
      "       insample period, start date: 2001-12-31 00:00:00 end date = 2003-12-24 00:00:00\n",
      "{'model': RandomizedSearchCV(cv=5,\n",
      "                   estimator=XGBRegressor(base_score=None, booster=None,\n",
      "                                          callbacks=None,\n",
      "                                          colsample_bylevel=None,\n",
      "                                          colsample_bynode=None,\n",
      "                                          colsample_bytree=None,\n",
      "                                          early_stopping_rounds=None,\n",
      "                                          enable_categorical=False,\n",
      "                                          eval_metric=None, feature_types=None,\n",
      "                                          gamma=None, gpu_id=None,\n",
      "                                          grow_policy=None,\n",
      "                                          importance_type=None,\n",
      "                                          interaction_constraints=None,\n",
      "                                          learning_rate=...\n",
      "                                          n_estimators=100, n_jobs=None,\n",
      "                                          num_parallel_tree=None,\n",
      "                                          predictor=None, random_state=None, ...),\n",
      "                   n_jobs=-1,\n",
      "                   param_distributions={'colsample_bytree': [0.6, 0.8, 1.0],\n",
      "                                        'gamma': [0, 0.1, 0.2],\n",
      "                                        'learning_rate': [0.01, 0.1, 0.5],\n",
      "                                        'max_depth': [3, 6, 9],\n",
      "                                        'n_estimators': [50, 100, 200],\n",
      "                                        'reg_alpha': [0, 0.1, 0.5],\n",
      "                                        'reg_lambda': [0, 0.1, 0.5],\n",
      "                                        'subsample': [0.6, 0.8, 1.0]},\n",
      "                   scoring='neg_mean_squared_error'), 'variables': ['DlyPrc', 'DlyCap', 'DlyOrdDivAmt', 'DlyVol', 'DlyClose', 'DlyLow', 'DlyHigh', 'DlyOpen', 'DlyPrcVol', 'ShrOut', 'ps', 'pcf', 'npm', 'gpm', 'capital_ratio', 'de_ratio', 'at_turn', 'MACD', 'RSI']}\n",
      "alpha estimation method: GridSearchCV\n",
      "       out of sample period, start date: 2003-12-31 00:00:00 end date = 2004-01-29 00:00:00\n",
      "step6: make prediction for out of sample\n"
     ]
    },
    {
     "name": "stderr",
     "output_type": "stream",
     "text": [
      " 77%|███████▋  | 36/47 [2:37:51<39:45, 216.90s/it]"
     ]
    },
    {
     "name": "stdout",
     "output_type": "stream",
     "text": [
      "step7: calculate return\n",
      "dict_keys(['GridSearchCV'])\n",
      "for date: 2004-01-31 00:00:00\n",
      "       insample period, start date: 2002-01-31 00:00:00 end date = 2004-01-23 00:00:00\n",
      "{'model': RandomizedSearchCV(cv=5,\n",
      "                   estimator=XGBRegressor(base_score=None, booster=None,\n",
      "                                          callbacks=None,\n",
      "                                          colsample_bylevel=None,\n",
      "                                          colsample_bynode=None,\n",
      "                                          colsample_bytree=None,\n",
      "                                          early_stopping_rounds=None,\n",
      "                                          enable_categorical=False,\n",
      "                                          eval_metric=None, feature_types=None,\n",
      "                                          gamma=None, gpu_id=None,\n",
      "                                          grow_policy=None,\n",
      "                                          importance_type=None,\n",
      "                                          interaction_constraints=None,\n",
      "                                          learning_rate=...\n",
      "                                          n_estimators=100, n_jobs=None,\n",
      "                                          num_parallel_tree=None,\n",
      "                                          predictor=None, random_state=None, ...),\n",
      "                   n_jobs=-1,\n",
      "                   param_distributions={'colsample_bytree': [0.6, 0.8, 1.0],\n",
      "                                        'gamma': [0, 0.1, 0.2],\n",
      "                                        'learning_rate': [0.01, 0.1, 0.5],\n",
      "                                        'max_depth': [3, 6, 9],\n",
      "                                        'n_estimators': [50, 100, 200],\n",
      "                                        'reg_alpha': [0, 0.1, 0.5],\n",
      "                                        'reg_lambda': [0, 0.1, 0.5],\n",
      "                                        'subsample': [0.6, 0.8, 1.0]},\n",
      "                   scoring='neg_mean_squared_error'), 'variables': ['DlyPrc', 'DlyCap', 'DlyOrdDivAmt', 'DlyVol', 'DlyClose', 'DlyLow', 'DlyHigh', 'DlyOpen', 'DlyPrcVol', 'ShrOut', 'ps', 'pcf', 'npm', 'gpm', 'capital_ratio', 'de_ratio', 'at_turn', 'MACD', 'RSI']}\n",
      "alpha estimation method: GridSearchCV\n",
      "       out of sample period, start date: 2004-02-02 00:00:00 end date = 2004-02-27 00:00:00\n",
      "step6: make prediction for out of sample\n"
     ]
    },
    {
     "name": "stderr",
     "output_type": "stream",
     "text": [
      " 79%|███████▊  | 37/47 [2:41:09<35:12, 211.24s/it]"
     ]
    },
    {
     "name": "stdout",
     "output_type": "stream",
     "text": [
      "step7: calculate return\n",
      "dict_keys(['GridSearchCV'])\n",
      "for date: 2004-02-29 00:00:00\n",
      "       insample period, start date: 2002-03-01 00:00:00 end date = 2004-02-23 00:00:00\n",
      "{'model': RandomizedSearchCV(cv=5,\n",
      "                   estimator=XGBRegressor(base_score=None, booster=None,\n",
      "                                          callbacks=None,\n",
      "                                          colsample_bylevel=None,\n",
      "                                          colsample_bynode=None,\n",
      "                                          colsample_bytree=None,\n",
      "                                          early_stopping_rounds=None,\n",
      "                                          enable_categorical=False,\n",
      "                                          eval_metric=None, feature_types=None,\n",
      "                                          gamma=None, gpu_id=None,\n",
      "                                          grow_policy=None,\n",
      "                                          importance_type=None,\n",
      "                                          interaction_constraints=None,\n",
      "                                          learning_rate=...\n",
      "                                          n_estimators=100, n_jobs=None,\n",
      "                                          num_parallel_tree=None,\n",
      "                                          predictor=None, random_state=None, ...),\n",
      "                   n_jobs=-1,\n",
      "                   param_distributions={'colsample_bytree': [0.6, 0.8, 1.0],\n",
      "                                        'gamma': [0, 0.1, 0.2],\n",
      "                                        'learning_rate': [0.01, 0.1, 0.5],\n",
      "                                        'max_depth': [3, 6, 9],\n",
      "                                        'n_estimators': [50, 100, 200],\n",
      "                                        'reg_alpha': [0, 0.1, 0.5],\n",
      "                                        'reg_lambda': [0, 0.1, 0.5],\n",
      "                                        'subsample': [0.6, 0.8, 1.0]},\n",
      "                   scoring='neg_mean_squared_error'), 'variables': ['DlyPrc', 'DlyCap', 'DlyOrdDivAmt', 'DlyVol', 'DlyClose', 'DlyLow', 'DlyHigh', 'DlyOpen', 'DlyPrcVol', 'ShrOut', 'ps', 'pcf', 'npm', 'gpm', 'capital_ratio', 'de_ratio', 'at_turn', 'MACD', 'RSI']}\n",
      "alpha estimation method: GridSearchCV\n",
      "       out of sample period, start date: 2004-03-01 00:00:00 end date = 2004-03-29 00:00:00\n",
      "step6: make prediction for out of sample\n"
     ]
    },
    {
     "name": "stderr",
     "output_type": "stream",
     "text": [
      " 81%|████████  | 38/47 [2:44:26<31:01, 206.81s/it]"
     ]
    },
    {
     "name": "stdout",
     "output_type": "stream",
     "text": [
      "step7: calculate return\n",
      "dict_keys(['GridSearchCV'])\n",
      "for date: 2004-03-31 00:00:00\n",
      "       insample period, start date: 2002-04-01 00:00:00 end date = 2004-03-25 00:00:00\n",
      "{'model': RandomizedSearchCV(cv=5,\n",
      "                   estimator=XGBRegressor(base_score=None, booster=None,\n",
      "                                          callbacks=None,\n",
      "                                          colsample_bylevel=None,\n",
      "                                          colsample_bynode=None,\n",
      "                                          colsample_bytree=None,\n",
      "                                          early_stopping_rounds=None,\n",
      "                                          enable_categorical=False,\n",
      "                                          eval_metric=None, feature_types=None,\n",
      "                                          gamma=None, gpu_id=None,\n",
      "                                          grow_policy=None,\n",
      "                                          importance_type=None,\n",
      "                                          interaction_constraints=None,\n",
      "                                          learning_rate=...\n",
      "                                          n_estimators=100, n_jobs=None,\n",
      "                                          num_parallel_tree=None,\n",
      "                                          predictor=None, random_state=None, ...),\n",
      "                   n_jobs=-1,\n",
      "                   param_distributions={'colsample_bytree': [0.6, 0.8, 1.0],\n",
      "                                        'gamma': [0, 0.1, 0.2],\n",
      "                                        'learning_rate': [0.01, 0.1, 0.5],\n",
      "                                        'max_depth': [3, 6, 9],\n",
      "                                        'n_estimators': [50, 100, 200],\n",
      "                                        'reg_alpha': [0, 0.1, 0.5],\n",
      "                                        'reg_lambda': [0, 0.1, 0.5],\n",
      "                                        'subsample': [0.6, 0.8, 1.0]},\n",
      "                   scoring='neg_mean_squared_error'), 'variables': ['DlyPrc', 'DlyCap', 'DlyOrdDivAmt', 'DlyVol', 'DlyClose', 'DlyLow', 'DlyHigh', 'DlyOpen', 'DlyPrcVol', 'ShrOut', 'ps', 'pcf', 'npm', 'gpm', 'capital_ratio', 'de_ratio', 'at_turn', 'MACD', 'RSI']}\n",
      "alpha estimation method: GridSearchCV\n",
      "       out of sample period, start date: 2004-03-31 00:00:00 end date = 2004-04-29 00:00:00\n",
      "step6: make prediction for out of sample\n"
     ]
    },
    {
     "name": "stderr",
     "output_type": "stream",
     "text": [
      " 83%|████████▎ | 39/47 [2:46:59<25:25, 190.73s/it]"
     ]
    },
    {
     "name": "stdout",
     "output_type": "stream",
     "text": [
      "step7: calculate return\n",
      "dict_keys(['GridSearchCV'])\n",
      "for date: 2004-04-30 00:00:00\n",
      "       insample period, start date: 2002-05-01 00:00:00 end date = 2004-04-23 00:00:00\n",
      "{'model': RandomizedSearchCV(cv=5,\n",
      "                   estimator=XGBRegressor(base_score=None, booster=None,\n",
      "                                          callbacks=None,\n",
      "                                          colsample_bylevel=None,\n",
      "                                          colsample_bynode=None,\n",
      "                                          colsample_bytree=None,\n",
      "                                          early_stopping_rounds=None,\n",
      "                                          enable_categorical=False,\n",
      "                                          eval_metric=None, feature_types=None,\n",
      "                                          gamma=None, gpu_id=None,\n",
      "                                          grow_policy=None,\n",
      "                                          importance_type=None,\n",
      "                                          interaction_constraints=None,\n",
      "                                          learning_rate=...\n",
      "                                          n_estimators=100, n_jobs=None,\n",
      "                                          num_parallel_tree=None,\n",
      "                                          predictor=None, random_state=None, ...),\n",
      "                   n_jobs=-1,\n",
      "                   param_distributions={'colsample_bytree': [0.6, 0.8, 1.0],\n",
      "                                        'gamma': [0, 0.1, 0.2],\n",
      "                                        'learning_rate': [0.01, 0.1, 0.5],\n",
      "                                        'max_depth': [3, 6, 9],\n",
      "                                        'n_estimators': [50, 100, 200],\n",
      "                                        'reg_alpha': [0, 0.1, 0.5],\n",
      "                                        'reg_lambda': [0, 0.1, 0.5],\n",
      "                                        'subsample': [0.6, 0.8, 1.0]},\n",
      "                   scoring='neg_mean_squared_error'), 'variables': ['DlyPrc', 'DlyCap', 'DlyOrdDivAmt', 'DlyVol', 'DlyClose', 'DlyLow', 'DlyHigh', 'DlyOpen', 'DlyPrcVol', 'ShrOut', 'ps', 'pcf', 'npm', 'gpm', 'capital_ratio', 'de_ratio', 'at_turn', 'MACD', 'RSI']}\n",
      "alpha estimation method: GridSearchCV\n",
      "       out of sample period, start date: 2004-04-30 00:00:00 end date = 2004-05-28 00:00:00\n",
      "step6: make prediction for out of sample\n"
     ]
    },
    {
     "name": "stderr",
     "output_type": "stream",
     "text": [
      " 85%|████████▌ | 40/47 [2:51:19<24:41, 211.59s/it]"
     ]
    },
    {
     "name": "stdout",
     "output_type": "stream",
     "text": [
      "step7: calculate return\n",
      "dict_keys(['GridSearchCV'])\n",
      "for date: 2004-05-31 00:00:00\n",
      "       insample period, start date: 2002-06-03 00:00:00 end date = 2004-05-25 00:00:00\n",
      "{'model': RandomizedSearchCV(cv=5,\n",
      "                   estimator=XGBRegressor(base_score=None, booster=None,\n",
      "                                          callbacks=None,\n",
      "                                          colsample_bylevel=None,\n",
      "                                          colsample_bynode=None,\n",
      "                                          colsample_bytree=None,\n",
      "                                          early_stopping_rounds=None,\n",
      "                                          enable_categorical=False,\n",
      "                                          eval_metric=None, feature_types=None,\n",
      "                                          gamma=None, gpu_id=None,\n",
      "                                          grow_policy=None,\n",
      "                                          importance_type=None,\n",
      "                                          interaction_constraints=None,\n",
      "                                          learning_rate=...\n",
      "                                          n_estimators=100, n_jobs=None,\n",
      "                                          num_parallel_tree=None,\n",
      "                                          predictor=None, random_state=None, ...),\n",
      "                   n_jobs=-1,\n",
      "                   param_distributions={'colsample_bytree': [0.6, 0.8, 1.0],\n",
      "                                        'gamma': [0, 0.1, 0.2],\n",
      "                                        'learning_rate': [0.01, 0.1, 0.5],\n",
      "                                        'max_depth': [3, 6, 9],\n",
      "                                        'n_estimators': [50, 100, 200],\n",
      "                                        'reg_alpha': [0, 0.1, 0.5],\n",
      "                                        'reg_lambda': [0, 0.1, 0.5],\n",
      "                                        'subsample': [0.6, 0.8, 1.0]},\n",
      "                   scoring='neg_mean_squared_error'), 'variables': ['DlyPrc', 'DlyCap', 'DlyOrdDivAmt', 'DlyVol', 'DlyClose', 'DlyLow', 'DlyHigh', 'DlyOpen', 'DlyPrcVol', 'ShrOut', 'ps', 'pcf', 'npm', 'gpm', 'capital_ratio', 'de_ratio', 'at_turn', 'MACD', 'RSI']}\n",
      "alpha estimation method: GridSearchCV\n",
      "       out of sample period, start date: 2004-06-01 00:00:00 end date = 2004-06-29 00:00:00\n",
      "step6: make prediction for out of sample\n"
     ]
    },
    {
     "name": "stderr",
     "output_type": "stream",
     "text": [
      " 87%|████████▋ | 41/47 [2:55:38<22:33, 225.66s/it]"
     ]
    },
    {
     "name": "stdout",
     "output_type": "stream",
     "text": [
      "step7: calculate return\n",
      "dict_keys(['GridSearchCV'])\n",
      "for date: 2004-06-30 00:00:00\n",
      "       insample period, start date: 2002-07-01 00:00:00 end date = 2004-06-24 00:00:00\n",
      "{'model': RandomizedSearchCV(cv=5,\n",
      "                   estimator=XGBRegressor(base_score=None, booster=None,\n",
      "                                          callbacks=None,\n",
      "                                          colsample_bylevel=None,\n",
      "                                          colsample_bynode=None,\n",
      "                                          colsample_bytree=None,\n",
      "                                          early_stopping_rounds=None,\n",
      "                                          enable_categorical=False,\n",
      "                                          eval_metric=None, feature_types=None,\n",
      "                                          gamma=None, gpu_id=None,\n",
      "                                          grow_policy=None,\n",
      "                                          importance_type=None,\n",
      "                                          interaction_constraints=None,\n",
      "                                          learning_rate=...\n",
      "                                          n_estimators=100, n_jobs=None,\n",
      "                                          num_parallel_tree=None,\n",
      "                                          predictor=None, random_state=None, ...),\n",
      "                   n_jobs=-1,\n",
      "                   param_distributions={'colsample_bytree': [0.6, 0.8, 1.0],\n",
      "                                        'gamma': [0, 0.1, 0.2],\n",
      "                                        'learning_rate': [0.01, 0.1, 0.5],\n",
      "                                        'max_depth': [3, 6, 9],\n",
      "                                        'n_estimators': [50, 100, 200],\n",
      "                                        'reg_alpha': [0, 0.1, 0.5],\n",
      "                                        'reg_lambda': [0, 0.1, 0.5],\n",
      "                                        'subsample': [0.6, 0.8, 1.0]},\n",
      "                   scoring='neg_mean_squared_error'), 'variables': ['DlyPrc', 'DlyCap', 'DlyOrdDivAmt', 'DlyVol', 'DlyClose', 'DlyLow', 'DlyHigh', 'DlyOpen', 'DlyPrcVol', 'ShrOut', 'ps', 'pcf', 'npm', 'gpm', 'capital_ratio', 'de_ratio', 'at_turn', 'MACD', 'RSI']}\n",
      "alpha estimation method: GridSearchCV\n",
      "       out of sample period, start date: 2004-06-30 00:00:00 end date = 2004-07-29 00:00:00\n",
      "step6: make prediction for out of sample\n"
     ]
    },
    {
     "name": "stderr",
     "output_type": "stream",
     "text": [
      " 89%|████████▉ | 42/47 [2:59:53<19:33, 234.69s/it]"
     ]
    },
    {
     "name": "stdout",
     "output_type": "stream",
     "text": [
      "step7: calculate return\n",
      "dict_keys(['GridSearchCV'])\n",
      "for date: 2004-07-31 00:00:00\n",
      "       insample period, start date: 2002-08-01 00:00:00 end date = 2004-07-23 00:00:00\n",
      "{'model': RandomizedSearchCV(cv=5,\n",
      "                   estimator=XGBRegressor(base_score=None, booster=None,\n",
      "                                          callbacks=None,\n",
      "                                          colsample_bylevel=None,\n",
      "                                          colsample_bynode=None,\n",
      "                                          colsample_bytree=None,\n",
      "                                          early_stopping_rounds=None,\n",
      "                                          enable_categorical=False,\n",
      "                                          eval_metric=None, feature_types=None,\n",
      "                                          gamma=None, gpu_id=None,\n",
      "                                          grow_policy=None,\n",
      "                                          importance_type=None,\n",
      "                                          interaction_constraints=None,\n",
      "                                          learning_rate=...\n",
      "                                          n_estimators=100, n_jobs=None,\n",
      "                                          num_parallel_tree=None,\n",
      "                                          predictor=None, random_state=None, ...),\n",
      "                   n_jobs=-1,\n",
      "                   param_distributions={'colsample_bytree': [0.6, 0.8, 1.0],\n",
      "                                        'gamma': [0, 0.1, 0.2],\n",
      "                                        'learning_rate': [0.01, 0.1, 0.5],\n",
      "                                        'max_depth': [3, 6, 9],\n",
      "                                        'n_estimators': [50, 100, 200],\n",
      "                                        'reg_alpha': [0, 0.1, 0.5],\n",
      "                                        'reg_lambda': [0, 0.1, 0.5],\n",
      "                                        'subsample': [0.6, 0.8, 1.0]},\n",
      "                   scoring='neg_mean_squared_error'), 'variables': ['DlyPrc', 'DlyCap', 'DlyOrdDivAmt', 'DlyVol', 'DlyClose', 'DlyLow', 'DlyHigh', 'DlyOpen', 'DlyPrcVol', 'ShrOut', 'ps', 'pcf', 'npm', 'gpm', 'capital_ratio', 'de_ratio', 'at_turn', 'MACD', 'RSI']}\n",
      "alpha estimation method: GridSearchCV\n",
      "       out of sample period, start date: 2004-08-02 00:00:00 end date = 2004-08-27 00:00:00\n",
      "step6: make prediction for out of sample\n"
     ]
    },
    {
     "name": "stderr",
     "output_type": "stream",
     "text": [
      " 91%|█████████▏| 43/47 [3:05:00<17:04, 256.18s/it]"
     ]
    },
    {
     "name": "stdout",
     "output_type": "stream",
     "text": [
      "step7: calculate return\n",
      "dict_keys(['GridSearchCV'])\n",
      "for date: 2004-08-31 00:00:00\n",
      "       insample period, start date: 2002-09-03 00:00:00 end date = 2004-08-25 00:00:00\n",
      "{'model': RandomizedSearchCV(cv=5,\n",
      "                   estimator=XGBRegressor(base_score=None, booster=None,\n",
      "                                          callbacks=None,\n",
      "                                          colsample_bylevel=None,\n",
      "                                          colsample_bynode=None,\n",
      "                                          colsample_bytree=None,\n",
      "                                          early_stopping_rounds=None,\n",
      "                                          enable_categorical=False,\n",
      "                                          eval_metric=None, feature_types=None,\n",
      "                                          gamma=None, gpu_id=None,\n",
      "                                          grow_policy=None,\n",
      "                                          importance_type=None,\n",
      "                                          interaction_constraints=None,\n",
      "                                          learning_rate=...\n",
      "                                          n_estimators=100, n_jobs=None,\n",
      "                                          num_parallel_tree=None,\n",
      "                                          predictor=None, random_state=None, ...),\n",
      "                   n_jobs=-1,\n",
      "                   param_distributions={'colsample_bytree': [0.6, 0.8, 1.0],\n",
      "                                        'gamma': [0, 0.1, 0.2],\n",
      "                                        'learning_rate': [0.01, 0.1, 0.5],\n",
      "                                        'max_depth': [3, 6, 9],\n",
      "                                        'n_estimators': [50, 100, 200],\n",
      "                                        'reg_alpha': [0, 0.1, 0.5],\n",
      "                                        'reg_lambda': [0, 0.1, 0.5],\n",
      "                                        'subsample': [0.6, 0.8, 1.0]},\n",
      "                   scoring='neg_mean_squared_error'), 'variables': ['DlyPrc', 'DlyCap', 'DlyOrdDivAmt', 'DlyVol', 'DlyClose', 'DlyLow', 'DlyHigh', 'DlyOpen', 'DlyPrcVol', 'ShrOut', 'ps', 'pcf', 'npm', 'gpm', 'capital_ratio', 'de_ratio', 'at_turn', 'MACD', 'RSI']}\n",
      "alpha estimation method: GridSearchCV\n",
      "       out of sample period, start date: 2004-08-31 00:00:00 end date = 2004-09-29 00:00:00\n",
      "step6: make prediction for out of sample\n"
     ]
    },
    {
     "name": "stderr",
     "output_type": "stream",
     "text": [
      " 94%|█████████▎| 44/47 [3:09:13<12:45, 255.23s/it]"
     ]
    },
    {
     "name": "stdout",
     "output_type": "stream",
     "text": [
      "step7: calculate return\n",
      "dict_keys(['GridSearchCV'])\n",
      "for date: 2004-09-30 00:00:00\n",
      "       insample period, start date: 2002-10-01 00:00:00 end date = 2004-09-24 00:00:00\n",
      "{'model': RandomizedSearchCV(cv=5,\n",
      "                   estimator=XGBRegressor(base_score=None, booster=None,\n",
      "                                          callbacks=None,\n",
      "                                          colsample_bylevel=None,\n",
      "                                          colsample_bynode=None,\n",
      "                                          colsample_bytree=None,\n",
      "                                          early_stopping_rounds=None,\n",
      "                                          enable_categorical=False,\n",
      "                                          eval_metric=None, feature_types=None,\n",
      "                                          gamma=None, gpu_id=None,\n",
      "                                          grow_policy=None,\n",
      "                                          importance_type=None,\n",
      "                                          interaction_constraints=None,\n",
      "                                          learning_rate=...\n",
      "                                          n_estimators=100, n_jobs=None,\n",
      "                                          num_parallel_tree=None,\n",
      "                                          predictor=None, random_state=None, ...),\n",
      "                   n_jobs=-1,\n",
      "                   param_distributions={'colsample_bytree': [0.6, 0.8, 1.0],\n",
      "                                        'gamma': [0, 0.1, 0.2],\n",
      "                                        'learning_rate': [0.01, 0.1, 0.5],\n",
      "                                        'max_depth': [3, 6, 9],\n",
      "                                        'n_estimators': [50, 100, 200],\n",
      "                                        'reg_alpha': [0, 0.1, 0.5],\n",
      "                                        'reg_lambda': [0, 0.1, 0.5],\n",
      "                                        'subsample': [0.6, 0.8, 1.0]},\n",
      "                   scoring='neg_mean_squared_error'), 'variables': ['DlyPrc', 'DlyCap', 'DlyOrdDivAmt', 'DlyVol', 'DlyClose', 'DlyLow', 'DlyHigh', 'DlyOpen', 'DlyPrcVol', 'ShrOut', 'ps', 'pcf', 'npm', 'gpm', 'capital_ratio', 'de_ratio', 'at_turn', 'MACD', 'RSI']}\n",
      "alpha estimation method: GridSearchCV\n",
      "       out of sample period, start date: 2004-09-30 00:00:00 end date = 2004-10-29 00:00:00\n",
      "step6: make prediction for out of sample\n"
     ]
    },
    {
     "name": "stderr",
     "output_type": "stream",
     "text": [
      " 96%|█████████▌| 45/47 [3:14:07<08:53, 266.95s/it]"
     ]
    },
    {
     "name": "stdout",
     "output_type": "stream",
     "text": [
      "step7: calculate return\n",
      "dict_keys(['GridSearchCV'])\n",
      "for date: 2004-10-31 00:00:00\n",
      "       insample period, start date: 2002-11-01 00:00:00 end date = 2004-10-25 00:00:00\n",
      "{'model': RandomizedSearchCV(cv=5,\n",
      "                   estimator=XGBRegressor(base_score=None, booster=None,\n",
      "                                          callbacks=None,\n",
      "                                          colsample_bylevel=None,\n",
      "                                          colsample_bynode=None,\n",
      "                                          colsample_bytree=None,\n",
      "                                          early_stopping_rounds=None,\n",
      "                                          enable_categorical=False,\n",
      "                                          eval_metric=None, feature_types=None,\n",
      "                                          gamma=None, gpu_id=None,\n",
      "                                          grow_policy=None,\n",
      "                                          importance_type=None,\n",
      "                                          interaction_constraints=None,\n",
      "                                          learning_rate=...\n",
      "                                          n_estimators=100, n_jobs=None,\n",
      "                                          num_parallel_tree=None,\n",
      "                                          predictor=None, random_state=None, ...),\n",
      "                   n_jobs=-1,\n",
      "                   param_distributions={'colsample_bytree': [0.6, 0.8, 1.0],\n",
      "                                        'gamma': [0, 0.1, 0.2],\n",
      "                                        'learning_rate': [0.01, 0.1, 0.5],\n",
      "                                        'max_depth': [3, 6, 9],\n",
      "                                        'n_estimators': [50, 100, 200],\n",
      "                                        'reg_alpha': [0, 0.1, 0.5],\n",
      "                                        'reg_lambda': [0, 0.1, 0.5],\n",
      "                                        'subsample': [0.6, 0.8, 1.0]},\n",
      "                   scoring='neg_mean_squared_error'), 'variables': ['DlyPrc', 'DlyCap', 'DlyOrdDivAmt', 'DlyVol', 'DlyClose', 'DlyLow', 'DlyHigh', 'DlyOpen', 'DlyPrcVol', 'ShrOut', 'ps', 'pcf', 'npm', 'gpm', 'capital_ratio', 'de_ratio', 'at_turn', 'MACD', 'RSI']}\n",
      "alpha estimation method: GridSearchCV\n",
      "       out of sample period, start date: 2004-11-01 00:00:00 end date = 2004-11-29 00:00:00\n",
      "step6: make prediction for out of sample\n"
     ]
    },
    {
     "name": "stderr",
     "output_type": "stream",
     "text": [
      " 98%|█████████▊| 46/47 [3:16:46<03:54, 234.61s/it]"
     ]
    },
    {
     "name": "stdout",
     "output_type": "stream",
     "text": [
      "step7: calculate return\n",
      "dict_keys(['GridSearchCV'])\n",
      "for date: 2004-11-30 00:00:00\n",
      "       insample period, start date: 2002-12-02 00:00:00 end date = 2004-11-24 00:00:00\n",
      "{'model': RandomizedSearchCV(cv=5,\n",
      "                   estimator=XGBRegressor(base_score=None, booster=None,\n",
      "                                          callbacks=None,\n",
      "                                          colsample_bylevel=None,\n",
      "                                          colsample_bynode=None,\n",
      "                                          colsample_bytree=None,\n",
      "                                          early_stopping_rounds=None,\n",
      "                                          enable_categorical=False,\n",
      "                                          eval_metric=None, feature_types=None,\n",
      "                                          gamma=None, gpu_id=None,\n",
      "                                          grow_policy=None,\n",
      "                                          importance_type=None,\n",
      "                                          interaction_constraints=None,\n",
      "                                          learning_rate=...\n",
      "                                          n_estimators=100, n_jobs=None,\n",
      "                                          num_parallel_tree=None,\n",
      "                                          predictor=None, random_state=None, ...),\n",
      "                   n_jobs=-1,\n",
      "                   param_distributions={'colsample_bytree': [0.6, 0.8, 1.0],\n",
      "                                        'gamma': [0, 0.1, 0.2],\n",
      "                                        'learning_rate': [0.01, 0.1, 0.5],\n",
      "                                        'max_depth': [3, 6, 9],\n",
      "                                        'n_estimators': [50, 100, 200],\n",
      "                                        'reg_alpha': [0, 0.1, 0.5],\n",
      "                                        'reg_lambda': [0, 0.1, 0.5],\n",
      "                                        'subsample': [0.6, 0.8, 1.0]},\n",
      "                   scoring='neg_mean_squared_error'), 'variables': ['DlyPrc', 'DlyCap', 'DlyOrdDivAmt', 'DlyVol', 'DlyClose', 'DlyLow', 'DlyHigh', 'DlyOpen', 'DlyPrcVol', 'ShrOut', 'ps', 'pcf', 'npm', 'gpm', 'capital_ratio', 'de_ratio', 'at_turn', 'MACD', 'RSI']}\n",
      "alpha estimation method: GridSearchCV\n",
      "       out of sample period, start date: 2004-11-30 00:00:00 end date = 2004-12-29 00:00:00\n",
      "step6: make prediction for out of sample\n"
     ]
    },
    {
     "name": "stderr",
     "output_type": "stream",
     "text": [
      "100%|██████████| 47/47 [3:20:44<00:00, 256.27s/it]"
     ]
    },
    {
     "name": "stdout",
     "output_type": "stream",
     "text": [
      "step7: calculate return\n",
      "dict_keys(['GridSearchCV'])\n"
     ]
    },
    {
     "name": "stderr",
     "output_type": "stream",
     "text": [
      "\n"
     ]
    }
   ],
   "source": [
    "# set the random seed\n",
    "# RMCVmodel = MLPRegressor()\n",
    "np.random.seed(42)\n",
    "pipept = Pipeline([('ws',Winsorize(level_winsorize = 0.05)),\n",
    "                ('qt',PowerTransformer()),\n",
    "                ('maxabs',MaxAbsScaler())])\n",
    "configurations = {\n",
    "                #   'KNN': {\n",
    "                #           'alpha_estimation_method':{'name':'KNN', 'n_neighbors':5, 'weights':'distance'},\n",
    "                #           'label':'fret5d',\n",
    "                #           'last_day_shift':5, \n",
    "                #           'features': features,\n",
    "                #           'parsing':clone(pipept)},\n",
    "                #  'RF':{\n",
    "                #           'alpha_estimation_method':{'name':'RandomForest', 'n_estimators':100, 'max_depth':5},\n",
    "                #           'label':'fret5d',\n",
    "                #           'last_day_shift':5, \n",
    "                #           'features': features,\n",
    "                #           'parsing':clone(pipept)},\n",
    "                \n",
    "                # 'XGBoost':{\n",
    "                #         'alpha_estimation_method':{'name':'XGBoost', 'n_estimators':100, 'max_depth':5, 'learning_rate':0.1},\n",
    "                #         'label':'fret5d',\n",
    "                #         'last_day_shift':5,\n",
    "                #         'features': features,\n",
    "                #         'parsing':clone(pipept)},\n",
    "                # 'MLP':{'alpha_estimation_method':{'name':'MLP', 'hidden_layer_sizes':(100,100,100), 'activation':'relu', 'solver':'adam', 'alpha':0.0001},\n",
    "                #         'label':'fret5d',\n",
    "                #         'last_day_shift':5,\n",
    "                #         'features': features,\n",
    "                #         'parsing':clone(pipept)},\n",
    "                'GridSearch':{'alpha_estimation_method':{'name':'GridSearchCV'},\n",
    "                        'label':'fret5d',\n",
    "                        'last_day_shift':5,\n",
    "                        'features': features,\n",
    "                        'parsing':clone(pipept)}\n",
    "\n",
    "}\n",
    "\n",
    "er = ExcessReturnCalculator(df = data2[data2['date']<'2005-01-01'],rolling_frw = '1M', \n",
    "        look_back_prm = 2*365, \n",
    "        level_winsorize = 0.01, \n",
    "        feature_names=features,configurations=configurations)\n",
    "return_dict = er.run_backtest()"
   ]
  },
  {
   "cell_type": "code",
   "execution_count": 237,
   "metadata": {},
   "outputs": [],
   "source": [
    "# result = {}\n",
    "# for i in return_dict.keys():\n",
    "#     result[i] = pd.concat([return_dict[i]['KNN'],return_dict[i]['RandomForest'],return_dict[i]['XGBoost'],return_dict[i]['MLP']],axis=1)\n",
    "#     result[i] = result[i].loc[:,~result[i].columns.duplicated()]"
   ]
  },
  {
   "cell_type": "code",
   "execution_count": 354,
   "metadata": {},
   "outputs": [
    {
     "data": {
      "text/html": [
       "<div>\n",
       "<style scoped>\n",
       "    .dataframe tbody tr th:only-of-type {\n",
       "        vertical-align: middle;\n",
       "    }\n",
       "\n",
       "    .dataframe tbody tr th {\n",
       "        vertical-align: top;\n",
       "    }\n",
       "\n",
       "    .dataframe thead th {\n",
       "        text-align: right;\n",
       "    }\n",
       "</style>\n",
       "<table border=\"1\" class=\"dataframe\">\n",
       "  <thead>\n",
       "    <tr style=\"text-align: right;\">\n",
       "      <th></th>\n",
       "      <th>permno</th>\n",
       "      <th>date</th>\n",
       "      <th>pred_GridSearchCV</th>\n",
       "    </tr>\n",
       "  </thead>\n",
       "  <tbody>\n",
       "    <tr>\n",
       "      <th>524</th>\n",
       "      <td>10078</td>\n",
       "      <td>2001-01-31</td>\n",
       "      <td>0.001252</td>\n",
       "    </tr>\n",
       "    <tr>\n",
       "      <th>525</th>\n",
       "      <td>10078</td>\n",
       "      <td>2001-02-01</td>\n",
       "      <td>0.001036</td>\n",
       "    </tr>\n",
       "    <tr>\n",
       "      <th>526</th>\n",
       "      <td>10078</td>\n",
       "      <td>2001-02-02</td>\n",
       "      <td>0.001036</td>\n",
       "    </tr>\n",
       "    <tr>\n",
       "      <th>527</th>\n",
       "      <td>10078</td>\n",
       "      <td>2001-02-05</td>\n",
       "      <td>0.001036</td>\n",
       "    </tr>\n",
       "    <tr>\n",
       "      <th>528</th>\n",
       "      <td>10078</td>\n",
       "      <td>2001-02-06</td>\n",
       "      <td>0.001036</td>\n",
       "    </tr>\n",
       "  </tbody>\n",
       "</table>\n",
       "</div>"
      ],
      "text/plain": [
       "     permno       date  pred_GridSearchCV\n",
       "524   10078 2001-01-31           0.001252\n",
       "525   10078 2001-02-01           0.001036\n",
       "526   10078 2001-02-02           0.001036\n",
       "527   10078 2001-02-05           0.001036\n",
       "528   10078 2001-02-06           0.001036"
      ]
     },
     "execution_count": 354,
     "metadata": {},
     "output_type": "execute_result"
    }
   ],
   "source": [
    "return_dict[list(return_dict.keys())[0]]['GridSearchCV'].head()"
   ]
  },
  {
   "cell_type": "code",
   "execution_count": 369,
   "metadata": {},
   "outputs": [],
   "source": [
    "result_randomSearch ={}\n",
    "for i in return_dict.keys():\n",
    "    result_randomSearch[i] = return_dict[i]['GridSearchCV']\n",
    "    result_randomSearch[i] = result_randomSearch[i].loc[:,~result_randomSearch[i].columns.duplicated()]"
   ]
  },
  {
   "cell_type": "code",
   "execution_count": 370,
   "metadata": {},
   "outputs": [],
   "source": [
    "result_randomSearch = pd.concat(result_randomSearch).reset_index()"
   ]
  },
  {
   "cell_type": "code",
   "execution_count": 374,
   "metadata": {},
   "outputs": [
    {
     "data": {
      "text/plain": [
       "(737158, 5)"
      ]
     },
     "execution_count": 374,
     "metadata": {},
     "output_type": "execute_result"
    }
   ],
   "source": [
    "result_randomSearch.shape"
   ]
  },
  {
   "cell_type": "code",
   "execution_count": 28,
   "metadata": {},
   "outputs": [],
   "source": [
    "def get_portfolio(df,percent_of_rank,pred_method):\n",
    "    \"\"\"\n",
    "This function takes the return dict and the percent of rank as input and returns the portfolio dataframe\"\"\"\n",
    "# generate pivot table\n",
    "    pivot_table = pd.pivot_table(df, values=pred_method, index=['date'], columns = ['permno'])\n",
    "# rank by the cumulative return\n",
    "    cum_return = pivot_table.cumsum(axis=0)\n",
    "    ranked_df = cum_return.rank(axis=1, method='first', na_option='bottom')\n",
    "    bottom_10 = ranked_df[ranked_df>(1-percent_of_rank)*ranked_df.shape[1]].dropna(how='all')\n",
    "    top_10 = ranked_df[ranked_df<percent_of_rank*ranked_df.shape[1]].dropna(how='all')\n",
    "    top10 = top_10.stack().reset_index()\n",
    "    bottom10 = bottom_10.stack().reset_index()\n",
    "    portfolio = pd.concat([top10,bottom10],axis=0)\n",
    "    portfolio['long_short'] = portfolio[0].apply(lambda x: 1 if x<percent_of_rank*ranked_df.shape[1] else -1)\n",
    "    portfolio.drop(columns=[0],inplace=True)\n",
    "    return portfolio\n",
    "\n"
   ]
  },
  {
   "cell_type": "code",
   "execution_count": 371,
   "metadata": {},
   "outputs": [],
   "source": [
    "portfolio_randomSearch = get_portfolio(result_randomSearch,0.1,'pred_GridSearchCV')"
   ]
  },
  {
   "cell_type": "code",
   "execution_count": 375,
   "metadata": {},
   "outputs": [],
   "source": [
    "def plot_portfolio_return(df_portfolio, df_data, return_result):\n",
    "    \"\"\"\n",
    "    This function takes the portfolio dataframe and the data dataframe as input and returns the plot of portfolio return\"\"\"\n",
    "    temp = df_data[['date','PERMNO','fret5d']].merge(df_portfolio, left_on=['date','PERMNO'],right_on= ['date','permno'] ,how='right')\n",
    "    temp['return'] = temp['fret5d']*temp['long_short']\n",
    "    #  resample every three months and cumsum\n",
    "    temp = temp.groupby(pd.Grouper(key='date',freq='1M')).sum()\n",
    "    temp['return'].plot()\n",
    "    plt.legend(title = f'{return_result}')\n",
    "    # plt.show()\n",
    "    if return_result:\n",
    "        return temp\n",
    "    else :\n",
    "        return None\n"
   ]
  },
  {
   "cell_type": "code",
   "execution_count": 376,
   "metadata": {},
   "outputs": [
    {
     "data": {
      "image/png": "[encoded data removed]",
      "text/plain": [
       "<Figure size 432x288 with 1 Axes>"
      ]
     },
     "metadata": {
      "needs_background": "light"
     },
     "output_type": "display_data"
    }
   ],
   "source": [
    "temp = plot_portfolio_return(portfolio_randomSearch, data2, True)"
   ]
  },
  {
   "cell_type": "code",
   "execution_count": 381,
   "metadata": {},
   "outputs": [],
   "source": [
    "def print_result(df0):\n",
    "    # print sharpe ratio\n",
    "    df = df0.groupby('date')['return'].sum()\n",
    "    print('volatility is: ', df.std()*np.sqrt(252))\n",
    "    print('sharpe ratio is: ', df.mean()/df.std()*np.sqrt(252))\n",
    "    # print max drawdown\n",
    "    print('max drawdown is: ', (df/df.cummax()-1).min(), 'on ' , (df/df.cummax()-1).idxmin())\n",
    "    # print skewness\n",
    "    print('skewness is: ', df.skew())\n",
    "    # print kurtosis\n",
    "    print('kurtosis is: ', df.kurtosis())\n",
    "    fig, ax = plt.subplots(2,2,figsize=(15,10))\n",
    "    # plot the histogram\n",
    "    df.hist(bins=30,ax=ax[0,0])\n",
    "    ax[0,0].set_title('histogram')\n",
    "    # plot the qq plot\n",
    "    sm.qqplot(df, line='s',ax=ax[0,1])\n",
    "    ax[0,1].set_title('qq plot')\n",
    "    # plot the density plot\n",
    "    df.plot(kind='density',ax=ax[1,0])\n",
    "    ax[1,0].set_title('density plot')\n",
    "    # plot the best fit normal distribution\n",
    "    x = np.linspace(df.min(), df.max(), 100)\n",
    "    pdf = norm.pdf(x, df.mean(), df.std())\n",
    "    ax[1,0].plot(x, pdf, 'k', linewidth=2)\n",
    "    ax[1,0].set_title('best fit normal distribution')\n",
    "    # plot the violin plot\n",
    "    sns.violinplot(df,ax=ax[1,1])\n",
    "    plt.show()\n",
    "\n"
   ]
  },
  {
   "cell_type": "code",
   "execution_count": 382,
   "metadata": {},
   "outputs": [
    {
     "name": "stdout",
     "output_type": "stream",
     "text": [
      "volatility is:  89.61027254842034\n",
      "sharpe ratio is:  1.7161306106607854\n",
      "max drawdown is:  -2.6467022557228645 on  2002-07-31 00:00:00\n",
      "skewness is:  -0.14104938072086431\n",
      "kurtosis is:  0.7330260574966241\n"
     ]
    },
    {
     "data": {
      "image/png": "[encoded data removed]",
      "text/plain": [
       "<Figure size 1080x720 with 4 Axes>"
      ]
     },
     "metadata": {
      "needs_background": "light"
     },
     "output_type": "display_data"
    }
   ],
   "source": [
    "print_result(temp)"
   ]
  },
  {
   "cell_type": "code",
   "execution_count": 257,
   "metadata": {},
   "outputs": [
    {
     "name": "stdout",
     "output_type": "stream",
     "text": [
      "volatility is:  133.15969432203596\n",
      "sharpe ratio is:  5.64169303671158\n",
      "max drawdown is:  -7.648453298437753 on  2001-10-31 00:00:00\n",
      "skewness is:  -0.15735590592336993\n",
      "kurtosis is:  1.1584820293471547\n"
     ]
    },
    {
     "data": {
      "image/png": "[encoded data removed]",
      "text/plain": [
       "<Figure size 432x288 with 1 Axes>"
      ]
     },
     "metadata": {
      "needs_background": "light"
     },
     "output_type": "display_data"
    },
    {
     "data": {
      "image/png": "[encoded data removed]",
      "text/plain": [
       "<Figure size 1080x720 with 4 Axes>"
      ]
     },
     "metadata": {
      "needs_background": "light"
     },
     "output_type": "display_data"
    },
    {
     "name": "stdout",
     "output_type": "stream",
     "text": [
      "volatility is:  135.676166851359\n",
      "sharpe ratio is:  4.672857459952188\n",
      "max drawdown is:  -3.7894486387915634 on  2002-07-31 00:00:00\n",
      "skewness is:  -0.6336184835099048\n",
      "kurtosis is:  1.850631735207656\n"
     ]
    },
    {
     "data": {
      "image/png": "[encoded data removed]",
      "text/plain": [
       "<Figure size 432x288 with 1 Axes>"
      ]
     },
     "metadata": {
      "needs_background": "light"
     },
     "output_type": "display_data"
    },
    {
     "data": {
      "image/png": "[encoded data removed]",
      "text/plain": [
       "<Figure size 1080x720 with 4 Axes>"
      ]
     },
     "metadata": {
      "needs_background": "light"
     },
     "output_type": "display_data"
    },
    {
     "name": "stdout",
     "output_type": "stream",
     "text": [
      "volatility is:  146.0752235617066\n",
      "sharpe ratio is:  4.29114012404543\n",
      "max drawdown is:  -7.008079034399647 on  2002-07-31 00:00:00\n",
      "skewness is:  -0.6207218489191877\n",
      "kurtosis is:  2.262636077000837\n"
     ]
    },
    {
     "data": {
      "image/png": "[encoded data removed]",
      "text/plain": [
       "<Figure size 432x288 with 1 Axes>"
      ]
     },
     "metadata": {
      "needs_background": "light"
     },
     "output_type": "display_data"
    },
    {
     "data": {
      "image/png": "[encoded data removed]",
      "text/plain": [
       "<Figure size 1080x720 with 4 Axes>"
      ]
     },
     "metadata": {
      "needs_background": "light"
     },
     "output_type": "display_data"
    },
    {
     "name": "stdout",
     "output_type": "stream",
     "text": [
      "volatility is:  136.65186791892316\n",
      "sharpe ratio is:  5.224275938021668\n",
      "max drawdown is:  -39.28189707105055 on  2001-10-31 00:00:00\n",
      "skewness is:  -0.24890472408634953\n",
      "kurtosis is:  2.3967583109355304\n"
     ]
    },
    {
     "data": {
      "image/png": "[encoded data removed]",
      "text/plain": [
       "<Figure size 432x288 with 1 Axes>"
      ]
     },
     "metadata": {
      "needs_background": "light"
     },
     "output_type": "display_data"
    },
    {
     "data": {
      "image/png": "[encoded data removed]",
      "text/plain": [
       "<Figure size 1080x720 with 4 Axes>"
      ]
     },
     "metadata": {
      "needs_background": "light"
     },
     "output_type": "display_data"
    }
   ],
   "source": [
    "# for col in result.columns: \n",
    "#     if col.startswith('pred_'):\n",
    "#         portfolio = get_portfolio(result,0.1,col)\n",
    "#         temp = plot_portfolio_return(portfolio,data2,True) \n",
    "#         print_result(temp)     \n",
    "#     else:\n",
    "#         continue\n",
    "# plt.show()"
   ]
  }
 ],
 "metadata": {
  "kernelspec": {
   "display_name": "Python 3.9.7",
   "language": "python",
   "name": "python3"
  },
  "language_info": {
   "codemirror_mode": {
    "name": "ipython",
    "version": 3
   },
   "file_extension": ".py",
   "mimetype": "text/x-python",
   "name": "python",
   "nbconvert_exporter": "python",
   "pygments_lexer": "ipython3",
   "version": "3.9.7"
  },
  "orig_nbformat": 4,
  "vscode": {
   "interpreter": {
    "hash": "03a3697374bbbf5c686ed493223611905693dd3072cd941d5fe8be42885e1ef6"
   }
  }
 },
 "nbformat": 4,
 "nbformat_minor": 2
}
